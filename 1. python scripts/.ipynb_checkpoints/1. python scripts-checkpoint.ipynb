{
 "cells": [
  {
   "cell_type": "markdown",
   "metadata": {},
   "source": [
    "# Занятие 1.\n",
    "\n",
    "## Python, jupyter-notebook, bash, git, googling."
   ]
  },
  {
   "cell_type": "markdown",
   "metadata": {},
   "source": [
    "### Начнем с Python\n",
    "Сразу, чтобы было понятно: я предполагаю, что с основами питона все знакомы, поэтому этот раздел нужен скорее для того, чтобы синхронизироваться по тому набору тем, который будет использоваться далее. Можно быстро прокликать этот раздел."
   ]
  },
  {
   "cell_type": "markdown",
   "metadata": {},
   "source": [
    "---"
   ]
  },
  {
   "cell_type": "markdown",
   "metadata": {},
   "source": [
    "### Математические операции\n",
    "Питон можно использовать, как калькулятор. Если вы быстро можете зайти в него, то это получается быстрее. Я лично так и делаю, экономлю кучу времени"
   ]
  },
  {
   "cell_type": "code",
   "execution_count": 37,
   "metadata": {},
   "outputs": [
    {
     "data": {
      "text/plain": [
       "5"
      ]
     },
     "execution_count": 37,
     "metadata": {},
     "output_type": "execute_result"
    }
   ],
   "source": [
    "5"
   ]
  },
  {
   "cell_type": "code",
   "execution_count": 38,
   "metadata": {},
   "outputs": [
    {
     "data": {
      "text/plain": [
       "3"
      ]
     },
     "execution_count": 38,
     "metadata": {},
     "output_type": "execute_result"
    }
   ],
   "source": [
    "1 + 2"
   ]
  },
  {
   "cell_type": "code",
   "execution_count": 39,
   "metadata": {},
   "outputs": [
    {
     "data": {
      "text/plain": [
       "1.25"
      ]
     },
     "execution_count": 39,
     "metadata": {},
     "output_type": "execute_result"
    }
   ],
   "source": [
    "(2 + 3) / 4"
   ]
  },
  {
   "cell_type": "markdown",
   "metadata": {},
   "source": [
    "Следующие две операции - целочисленное деление (то есть деление с округлением вниз до целого) и взятие остатка от деления."
   ]
  },
  {
   "cell_type": "code",
   "execution_count": 40,
   "metadata": {},
   "outputs": [
    {
     "data": {
      "text/plain": [
       "1"
      ]
     },
     "execution_count": 40,
     "metadata": {},
     "output_type": "execute_result"
    }
   ],
   "source": [
    "(2 + 3) // 4"
   ]
  },
  {
   "cell_type": "code",
   "execution_count": 41,
   "metadata": {},
   "outputs": [
    {
     "data": {
      "text/plain": [
       "3"
      ]
     },
     "execution_count": 41,
     "metadata": {},
     "output_type": "execute_result"
    }
   ],
   "source": [
    "(2 + 5) % 4"
   ]
  },
  {
   "cell_type": "markdown",
   "metadata": {},
   "source": [
    "### Комментарии\n",
    "\n",
    "Комментарии нужны только для того, чтобы при прочтении кода было понятнее, что происходит. Компьютер их игнорирует"
   ]
  },
  {
   "cell_type": "code",
   "execution_count": 42,
   "metadata": {},
   "outputs": [
    {
     "data": {
      "text/plain": [
       "5"
      ]
     },
     "execution_count": 42,
     "metadata": {},
     "output_type": "execute_result"
    }
   ],
   "source": [
    "# comment, not executed\n",
    "'''\n",
    "comment too\n",
    "but multiple lines\n",
    ":)\n",
    "'''\n",
    "1 + 4"
   ]
  },
  {
   "cell_type": "markdown",
   "metadata": {},
   "source": [
    "### Переменные\n",
    "Переменные нужны для того, чтобы записывать в них какую-то информацию и хранить \"под рукой\". В Jupyter-notebook  общий контекст переменных между ячейками, так что любая объявленная ранее переменная жива, пока ее не перетерли. Следите за тем, чтобы выполнять операции сверху вниз!"
   ]
  },
  {
   "cell_type": "code",
   "execution_count": 43,
   "metadata": {},
   "outputs": [
    {
     "data": {
      "text/plain": [
       "4"
      ]
     },
     "execution_count": 43,
     "metadata": {},
     "output_type": "execute_result"
    }
   ],
   "source": [
    "a = 1 + 3\n",
    "a"
   ]
  },
  {
   "cell_type": "code",
   "execution_count": 44,
   "metadata": {},
   "outputs": [
    {
     "data": {
      "text/plain": [
       "4"
      ]
     },
     "execution_count": 44,
     "metadata": {},
     "output_type": "execute_result"
    }
   ],
   "source": [
    "a"
   ]
  },
  {
   "cell_type": "code",
   "execution_count": 45,
   "metadata": {},
   "outputs": [
    {
     "data": {
      "text/plain": [
       "12"
      ]
     },
     "execution_count": 45,
     "metadata": {},
     "output_type": "execute_result"
    }
   ],
   "source": [
    "b = a + 3\n",
    "c = a + b\n",
    "c += 1\n",
    "c"
   ]
  },
  {
   "cell_type": "markdown",
   "metadata": {},
   "source": [
    "### Ввод-вывод\n",
    "В jupyter-notebook не очень любят ввод-вывод, зато он нужен в консольных приложениях\n",
    "\n",
    "---\n",
    "\n",
    "    print(_s_)\n",
    "    \n",
    "Выводит строку **\\_s\\_**. Есть удобные параметры sep, end.\n",
    "\n",
    "---\n",
    "\n",
    "    input()\n",
    "    \n",
    "Считывает строку из консоли"
   ]
  },
  {
   "cell_type": "code",
   "execution_count": 46,
   "metadata": {},
   "outputs": [
    {
     "name": "stdout",
     "output_type": "stream",
     "text": [
      "12\n"
     ]
    }
   ],
   "source": [
    "print(c)"
   ]
  },
  {
   "cell_type": "code",
   "execution_count": 47,
   "metadata": {},
   "outputs": [
    {
     "name": "stdout",
     "output_type": "stream",
     "text": [
      "a, b, c, d, e!"
     ]
    }
   ],
   "source": [
    "print('a', 'b', 'c', 'd', 'e', sep=', ', end='!')"
   ]
  },
  {
   "cell_type": "code",
   "execution_count": 48,
   "metadata": {},
   "outputs": [
    {
     "name": "stdout",
     "output_type": "stream",
     "text": [
      "hello, world\n"
     ]
    },
    {
     "data": {
      "text/plain": [
       "'hello, world'"
      ]
     },
     "execution_count": 48,
     "metadata": {},
     "output_type": "execute_result"
    }
   ],
   "source": [
    "s = input()\n",
    "s"
   ]
  },
  {
   "cell_type": "code",
   "execution_count": 49,
   "metadata": {},
   "outputs": [],
   "source": [
    "# Момент для задания 1: считайте имя NAME и выведите по шаблону ответ \"Hello, NAME\"\n",
    "# ваш код тут"
   ]
  },
  {
   "cell_type": "markdown",
   "metadata": {},
   "source": [
    "### Логические выражения\n",
    "Логические выражения нужны для того, чтобы компьютер мог делать какое-то ветвление"
   ]
  },
  {
   "cell_type": "code",
   "execution_count": 50,
   "metadata": {},
   "outputs": [
    {
     "data": {
      "text/plain": [
       "True"
      ]
     },
     "execution_count": 50,
     "metadata": {},
     "output_type": "execute_result"
    }
   ],
   "source": [
    "5 + 3 == 8 "
   ]
  },
  {
   "cell_type": "code",
   "execution_count": 51,
   "metadata": {},
   "outputs": [
    {
     "data": {
      "text/plain": [
       "False"
      ]
     },
     "execution_count": 51,
     "metadata": {},
     "output_type": "execute_result"
    }
   ],
   "source": [
    "5 + 3 > 8"
   ]
  },
  {
   "cell_type": "markdown",
   "metadata": {},
   "source": [
    "Используйте скобки в логических выражениях. Не поставите скобки - рискуете полдня дебажить неверную логику в ифе"
   ]
  },
  {
   "cell_type": "code",
   "execution_count": 52,
   "metadata": {},
   "outputs": [
    {
     "data": {
      "text/plain": [
       "True"
      ]
     },
     "execution_count": 52,
     "metadata": {},
     "output_type": "execute_result"
    }
   ],
   "source": [
    "(not 5 + 3 > 8) and 3 - 2 == 1"
   ]
  },
  {
   "cell_type": "markdown",
   "metadata": {},
   "source": [
    "### Условия\n",
    "\n",
    "Общий вид условий выглядит так:\n",
    "\n",
    "    if _condition_:\n",
    "        _instruction 1_\n",
    "        ...\n",
    "        _instruction n_\n",
    "\n",
    "Если условие **\\_condition\\_** выполнено, то случится блок инструкций **\\_instruction\\_**. Заметьте, что блок инструкций выделяется табом, это важно! Чтобы было чуть легче устроить прямо настоящее такое ветвление, **if** можно использовать в паре с **else**:\n",
    "\n",
    "    if _condition_:\n",
    "        _instruction 1_\n",
    "        ...\n",
    "        _instruction n_\n",
    "    else:\n",
    "         _instruction 1_\n",
    "        ...\n",
    "        _instruction m_\n",
    "На русском это произносится как-то так: \"если **\\_condition\\_**, то выполни первый блок инструкций, а иначе выполни второй.\n",
    "\n",
    "Более того, если хочется сделать конструкцию \n",
    "    \n",
    "    if ...:\n",
    "        ...\n",
    "    else:\n",
    "        if ...:\n",
    "            ...\n",
    "        else:\n",
    "            if ...:\n",
    "                ...\n",
    "            else:\n",
    "                ...\n",
    "\n",
    "То можно не городить ступеньки, а воспользоваться красивой командой **elif**"
   ]
  },
  {
   "cell_type": "code",
   "execution_count": 53,
   "metadata": {},
   "outputs": [
    {
     "name": "stdout",
     "output_type": "stream",
     "text": [
      "5 + 3 == 8\n"
     ]
    }
   ],
   "source": [
    "if 5 + 3 > 8:\n",
    "    print('5 + 3 > 8')\n",
    "elif 5 + 3 == 8:\n",
    "    print('5 + 3 == 8')\n",
    "else:\n",
    "    print('5 + 3 < 8')"
   ]
  },
  {
   "cell_type": "markdown",
   "metadata": {},
   "source": [
    "### Цикл for\n",
    "\n",
    "Самый популярный цикл\n",
    "\n",
    "    for i in range(a, b, c)\n",
    "\n",
    "Выполнение производится от **a** включительно до **b** невключительно с шагом **c**, текущий шаг записывается в **i**.\n",
    "\n",
    "    for i in range(n)\n",
    "\n",
    "делает то же самое, что \n",
    "\n",
    "    for i in range(0, n, 1)\n",
    "    \n",
    "Иначе говоря, **n** раз что-то делает, причем итерации цикла нумеруются от **0** до **n - 1**"
   ]
  },
  {
   "cell_type": "code",
   "execution_count": 54,
   "metadata": {},
   "outputs": [
    {
     "name": "stdout",
     "output_type": "stream",
     "text": [
      "0 1 2 3 4 \n",
      "2 4 6 8 \n"
     ]
    }
   ],
   "source": [
    "for i in range(5):\n",
    "    print(i, end=' ')\n",
    "print()\n",
    "for i in range(2, 10, 2):\n",
    "    print(i, end=' ')\n",
    "print()"
   ]
  },
  {
   "cell_type": "markdown",
   "metadata": {},
   "source": [
    "#### Цикл while \n",
    "   \n",
    "    while _condition_\n",
    "    \n",
    "используется в ситуациях, когда повторение нужно не сколько-то раз, а до тех пор, пока какое-то условие выполняется.\n",
    "\n",
    "Кстати, что делает код ниже?"
   ]
  },
  {
   "cell_type": "code",
   "execution_count": 55,
   "metadata": {},
   "outputs": [
    {
     "data": {
      "text/plain": [
       "5"
      ]
     },
     "execution_count": 55,
     "metadata": {},
     "output_type": "execute_result"
    }
   ],
   "source": [
    "x = 0\n",
    "while x ** 2 < 25:\n",
    "    x += 1\n",
    "x"
   ]
  },
  {
   "cell_type": "code",
   "execution_count": 57,
   "metadata": {},
   "outputs": [],
   "source": [
    "# задание 2: найдите сумму чисел от 23 до 45, последняя цифра которых не делится на 2\n",
    "# подсказка: последняя цифра - это остаток от деления на 10\n",
    "# ваш код тут"
   ]
  },
  {
   "cell_type": "markdown",
   "metadata": {},
   "source": [
    "### Функции\n",
    "\n",
    "У функций следующая роль: избавлять нас от дублирования кода путем вынесения его в отдельные смысловые блоки. Каждая функция принимает какие-то параметры и возвращает один элемент (можно вернуть пустой элемент, тем самым не вернув ничего)."
   ]
  },
  {
   "cell_type": "code",
   "execution_count": 58,
   "metadata": {},
   "outputs": [],
   "source": [
    "'''\n",
    "comments before functions are mostly used to explain what function does\n",
    "\n",
    "@returns square root of an argument.\n",
    "if argument is not a square of positive integer, returns first integer greater than it\n",
    "'''\n",
    "def sqrt(s):\n",
    "    x = 0\n",
    "    while x ** 2 < s:\n",
    "        x += 1\n",
    "    return x"
   ]
  },
  {
   "cell_type": "markdown",
   "metadata": {},
   "source": [
    "Можно заметить, что наша функция работает некорректно для отрицательных чисел. Это плохо, потому что когда-нибудь мы вызовем эту функцию с некорректными параметрами и не заметим, в чем подвох. Будем искать сложный баг. Чтобы такого не было, давайте сразу **ронять** программу, если кто-то хочет сделать что-то плохое. Мы будем делать это с помощью команды **assert**, но вообще существует более продвинутый механизм **исключений**. Они решают немного разные задачи, но сейчас нам не до этого. Если хотите - почитайте дополнительно"
   ]
  },
  {
   "cell_type": "code",
   "execution_count": 59,
   "metadata": {},
   "outputs": [],
   "source": [
    "'''\n",
    "@returns square root of an argument.\n",
    " if argument is not a square of positive integer, returns first integer greater than it\n",
    "'''\n",
    "def sqrt(s):\n",
    "    assert s >= 0, 'sqrt of negative number is not defined'\n",
    "    x = 0\n",
    "    while x ** 2 < s:\n",
    "        x += 1\n",
    "    return x    "
   ]
  },
  {
   "cell_type": "code",
   "execution_count": 60,
   "metadata": {},
   "outputs": [
    {
     "data": {
      "text/plain": [
       "1"
      ]
     },
     "execution_count": 60,
     "metadata": {},
     "output_type": "execute_result"
    }
   ],
   "source": [
    "sqrt(1)"
   ]
  },
  {
   "cell_type": "markdown",
   "metadata": {},
   "source": [
    "А если мы сделаем некорректный запуск, мы получим понятную ошибку. Гораздо понятнее, чем получить\n",
    "    \n",
    "    square(-1) = 0 # ????"
   ]
  },
  {
   "cell_type": "code",
   "execution_count": 61,
   "metadata": {},
   "outputs": [
    {
     "ename": "AssertionError",
     "evalue": "sqrt of negative number is not defined",
     "output_type": "error",
     "traceback": [
      "\u001b[0;31m---------------------------------------------------------------------------\u001b[0m",
      "\u001b[0;31mAssertionError\u001b[0m                            Traceback (most recent call last)",
      "\u001b[0;32m<ipython-input-61-dc0ac523cb01>\u001b[0m in \u001b[0;36m<module>\u001b[0;34m\u001b[0m\n\u001b[0;32m----> 1\u001b[0;31m \u001b[0msqrt\u001b[0m\u001b[0;34m(\u001b[0m\u001b[0;34m-\u001b[0m\u001b[0;36m1\u001b[0m\u001b[0;34m)\u001b[0m\u001b[0;34m\u001b[0m\u001b[0;34m\u001b[0m\u001b[0m\n\u001b[0m",
      "\u001b[0;32m<ipython-input-59-8b3a0a7b0601>\u001b[0m in \u001b[0;36msqrt\u001b[0;34m(s)\u001b[0m\n\u001b[1;32m      4\u001b[0m '''\n\u001b[1;32m      5\u001b[0m \u001b[0;32mdef\u001b[0m \u001b[0msqrt\u001b[0m\u001b[0;34m(\u001b[0m\u001b[0ms\u001b[0m\u001b[0;34m)\u001b[0m\u001b[0;34m:\u001b[0m\u001b[0;34m\u001b[0m\u001b[0;34m\u001b[0m\u001b[0m\n\u001b[0;32m----> 6\u001b[0;31m     \u001b[0;32massert\u001b[0m \u001b[0ms\u001b[0m \u001b[0;34m>=\u001b[0m \u001b[0;36m0\u001b[0m\u001b[0;34m,\u001b[0m \u001b[0;34m'sqrt of negative number is not defined'\u001b[0m\u001b[0;34m\u001b[0m\u001b[0;34m\u001b[0m\u001b[0m\n\u001b[0m\u001b[1;32m      7\u001b[0m     \u001b[0mx\u001b[0m \u001b[0;34m=\u001b[0m \u001b[0;36m0\u001b[0m\u001b[0;34m\u001b[0m\u001b[0;34m\u001b[0m\u001b[0m\n\u001b[1;32m      8\u001b[0m     \u001b[0;32mwhile\u001b[0m \u001b[0mx\u001b[0m \u001b[0;34m**\u001b[0m \u001b[0;36m2\u001b[0m \u001b[0;34m<\u001b[0m \u001b[0ms\u001b[0m\u001b[0;34m:\u001b[0m\u001b[0;34m\u001b[0m\u001b[0;34m\u001b[0m\u001b[0m\n",
      "\u001b[0;31mAssertionError\u001b[0m: sqrt of negative number is not defined"
     ]
    }
   ],
   "source": [
    "sqrt(-1)"
   ]
  },
  {
   "cell_type": "markdown",
   "metadata": {},
   "source": [
    "Вообще, наш метод достаточно по-дурацки работает с теми числами, из которых нет целого корня. Есть метод Ньютона, который помогает решить эту проблему."
   ]
  },
  {
   "cell_type": "code",
   "execution_count": 62,
   "metadata": {},
   "outputs": [],
   "source": [
    "'''\n",
    "@returns square root of an argument.\n",
    " if argument is not a square of positive integer, returns first integer greater than it\n",
    "\n",
    "look up for newton's method to explanation\n",
    "'''\n",
    "def sqrt(s):\n",
    "    assert s >= 0, 'sqrt of negative number is not defined'\n",
    "    x = 1\n",
    "    for i in range(100):\n",
    "        x = 0.5 * (x + (s / x))\n",
    "    return x"
   ]
  },
  {
   "cell_type": "markdown",
   "metadata": {},
   "source": [
    "Теперь можно попробовать посчитать\n",
    "    \n",
    "$ sqrt(28) = 2\\sqrt{7} \\sim 5.2915$"
   ]
  },
  {
   "cell_type": "code",
   "execution_count": 63,
   "metadata": {},
   "outputs": [
    {
     "data": {
      "text/plain": [
       "5.291502622129181"
      ]
     },
     "execution_count": 63,
     "metadata": {},
     "output_type": "execute_result"
    }
   ],
   "source": [
    "sqrt(28)"
   ]
  },
  {
   "cell_type": "code",
   "execution_count": 64,
   "metadata": {},
   "outputs": [],
   "source": [
    "# дополнительное задание: преобразуйте прошлую функцию\n",
    "# так, чтобы цикл выполнялся до тех пор, пока ответ меняется хотя бы на 0.001\n",
    "# ваш код тут"
   ]
  },
  {
   "cell_type": "markdown",
   "metadata": {},
   "source": [
    "### Массивы\n",
    "\n",
    "Пока что мы пользовались только тем, что у компьютера высокая скорость вычислений. Но вообще-то, у него еще и памяти много. Однотипные переменные можно сохранять в массив, чтобы потом с ними работать, как с отдельными переменными, но с общим именем\n",
    "\n",
    "Вместо a0, a1, a2 и так далее заводится $a_0,\\,a_1,\\,a_2$"
   ]
  },
  {
   "cell_type": "code",
   "execution_count": 65,
   "metadata": {},
   "outputs": [
    {
     "data": {
      "text/plain": [
       "[1, 2, 3, 5]"
      ]
     },
     "execution_count": 65,
     "metadata": {},
     "output_type": "execute_result"
    }
   ],
   "source": [
    "array = [1, 2, 3]\n",
    "array.append(5)\n",
    "array"
   ]
  },
  {
   "cell_type": "code",
   "execution_count": 66,
   "metadata": {},
   "outputs": [
    {
     "data": {
      "text/plain": [
       "3"
      ]
     },
     "execution_count": 66,
     "metadata": {},
     "output_type": "execute_result"
    }
   ],
   "source": [
    "array[2]"
   ]
  },
  {
   "cell_type": "markdown",
   "metadata": {},
   "source": [
    "У массивов можно брать так называемый **срез** , который работает по тем же правилам, что и `range`, смотри пример"
   ]
  },
  {
   "cell_type": "code",
   "execution_count": 67,
   "metadata": {},
   "outputs": [
    {
     "data": {
      "text/plain": [
       "[2, 3]"
      ]
     },
     "execution_count": 67,
     "metadata": {},
     "output_type": "execute_result"
    }
   ],
   "source": [
    "array[1:3]"
   ]
  },
  {
   "cell_type": "code",
   "execution_count": 68,
   "metadata": {},
   "outputs": [
    {
     "name": "stdout",
     "output_type": "stream",
     "text": [
      "2, 3, "
     ]
    }
   ],
   "source": [
    "for i in range(1, 3):\n",
    "    print(array[i], end=', ')"
   ]
  },
  {
   "cell_type": "markdown",
   "metadata": {},
   "source": [
    "### Строки\n",
    "Практически в любом языке программирование строки - это практически то же самое, что и массив символов, только с добавлением некоторого синтаксического сахара для удобной записи."
   ]
  },
  {
   "cell_type": "code",
   "execution_count": 69,
   "metadata": {},
   "outputs": [
    {
     "data": {
      "text/plain": [
       "'abce'"
      ]
     },
     "execution_count": 69,
     "metadata": {},
     "output_type": "execute_result"
    }
   ],
   "source": [
    "s = 'abc'\n",
    "s += 'e'\n",
    "s"
   ]
  },
  {
   "cell_type": "code",
   "execution_count": 70,
   "metadata": {},
   "outputs": [
    {
     "name": "stdout",
     "output_type": "stream",
     "text": [
      "c\n"
     ]
    }
   ],
   "source": [
    "print(s[2])"
   ]
  },
  {
   "cell_type": "code",
   "execution_count": 71,
   "metadata": {},
   "outputs": [
    {
     "data": {
      "text/plain": [
       "'bc'"
      ]
     },
     "execution_count": 71,
     "metadata": {},
     "output_type": "execute_result"
    }
   ],
   "source": [
    "s[1:3]"
   ]
  },
  {
   "cell_type": "code",
   "execution_count": 72,
   "metadata": {},
   "outputs": [],
   "source": [
    "# задание: считайте три строки ввода от пользователя,\n",
    "# запишите их в массив, и выведите в каком-нибудь другом порядке\n",
    "# ваш код тут"
   ]
  },
  {
   "cell_type": "markdown",
   "metadata": {},
   "source": [
    "### Множества\n",
    "Множества бывают полезны в тех ситуациях, когда нужно сохранить объекты, но порядок объектов нам не очень-то важен. Вряд ли мы будем активно их использовать, просто не испугайтесь, когда мы их увидим где-то потом."
   ]
  },
  {
   "cell_type": "code",
   "execution_count": 73,
   "metadata": {},
   "outputs": [
    {
     "data": {
      "text/plain": [
       "True"
      ]
     },
     "execution_count": 73,
     "metadata": {},
     "output_type": "execute_result"
    }
   ],
   "source": [
    "s = set()\n",
    "s.add('x')\n",
    "'x' in s"
   ]
  },
  {
   "cell_type": "code",
   "execution_count": 74,
   "metadata": {},
   "outputs": [
    {
     "data": {
      "text/plain": [
       "False"
      ]
     },
     "execution_count": 74,
     "metadata": {},
     "output_type": "execute_result"
    }
   ],
   "source": [
    "'y' in s"
   ]
  },
  {
   "cell_type": "markdown",
   "metadata": {},
   "source": [
    "#### Словари\n",
    "Словари в питоне сделаны ТАК УДОБНО, что просто жесть. Ими хочется пользоваться и пользоваться. При этом словарь - это просто такой массив, в котором можно обратиться к элементу не по его номеру, а по какому-то ключу (например, по строковому имени)."
   ]
  },
  {
   "cell_type": "code",
   "execution_count": 75,
   "metadata": {},
   "outputs": [
    {
     "data": {
      "text/plain": [
       "{'login': 'kik0s', 'password': '********'}"
      ]
     },
     "execution_count": 75,
     "metadata": {},
     "output_type": "execute_result"
    }
   ],
   "source": [
    "user = {\n",
    "    'login': 'kik0s',\n",
    "    'password': '********'\n",
    "}\n",
    "user"
   ]
  },
  {
   "cell_type": "code",
   "execution_count": 76,
   "metadata": {},
   "outputs": [
    {
     "data": {
      "text/plain": [
       "'kik0s'"
      ]
     },
     "execution_count": 76,
     "metadata": {},
     "output_type": "execute_result"
    }
   ],
   "source": [
    "user['login']"
   ]
  },
  {
   "cell_type": "code",
   "execution_count": 77,
   "metadata": {},
   "outputs": [
    {
     "ename": "KeyError",
     "evalue": "'name'",
     "output_type": "error",
     "traceback": [
      "\u001b[0;31m---------------------------------------------------------------------------\u001b[0m",
      "\u001b[0;31mKeyError\u001b[0m                                  Traceback (most recent call last)",
      "\u001b[0;32m<ipython-input-77-91480d94728d>\u001b[0m in \u001b[0;36m<module>\u001b[0;34m\u001b[0m\n\u001b[0;32m----> 1\u001b[0;31m \u001b[0muser\u001b[0m\u001b[0;34m[\u001b[0m\u001b[0;34m'name'\u001b[0m\u001b[0;34m]\u001b[0m\u001b[0;34m\u001b[0m\u001b[0;34m\u001b[0m\u001b[0m\n\u001b[0m",
      "\u001b[0;31mKeyError\u001b[0m: 'name'"
     ]
    }
   ],
   "source": [
    "user['name']"
   ]
  },
  {
   "cell_type": "code",
   "execution_count": 78,
   "metadata": {},
   "outputs": [],
   "source": [
    "user['name'] = 'Kostya'"
   ]
  },
  {
   "cell_type": "code",
   "execution_count": 79,
   "metadata": {},
   "outputs": [
    {
     "data": {
      "text/plain": [
       "'Kostya'"
      ]
     },
     "execution_count": 79,
     "metadata": {},
     "output_type": "execute_result"
    }
   ],
   "source": [
    "user['name']"
   ]
  },
  {
   "cell_type": "markdown",
   "metadata": {},
   "source": [
    "### Классы\n",
    "\n",
    "Классы - это такой способ расширить стандартный набор типов с помощью каких-то своих. То есть **класс** - это просто созданный новый тип данных. Например, ниже мы создадим класс `User`. Все переменные типа `User` мы будем называть **объектами** типа `User`.\n",
    "\n",
    "Разница между классом и объектом обычно сложна для понимания. В некотором смысле, **класс** - это какой-то чертеж, набросок, описание **объекта**, а **объект** - это уже что-то конкретное, представитель **класса**, машина, собранная по чертежу. Если вам нужно понять, с чем вы работаете, попробуйте мысленно заменить нужное слово на слово **тип** (или тип переменной). Если получается - вы имеете дело с понятием **класса**.\n",
    "\n",
    "В классе может быть описано, какие данные хранит объект, а также, какие методы у объекта есть.\n",
    "\n",
    "Слово `self` компьютер мысленно заменяет на **текущий объект**.\n",
    "\n",
    "В этой теме много сходу неинтуитивных моментов. Но нам, на самом деле, пофиг - мы не сразу начнем делать что-то содержательное, можно будет попозже разобраться. "
   ]
  },
  {
   "cell_type": "code",
   "execution_count": 80,
   "metadata": {},
   "outputs": [],
   "source": [
    "class User:\n",
    "    def __init__(self, name, login, password):\n",
    "        self.name = name\n",
    "        self.login = login\n",
    "        self.password = password\n",
    "\n",
    "    def check(self, login, password):\n",
    "        return login == self.login and password == self.password"
   ]
  },
  {
   "cell_type": "code",
   "execution_count": 81,
   "metadata": {},
   "outputs": [
    {
     "data": {
      "text/plain": [
       "'kik0s'"
      ]
     },
     "execution_count": 81,
     "metadata": {},
     "output_type": "execute_result"
    }
   ],
   "source": [
    "kostya = User('kostya', 'kik0s', '********')\n",
    "kostya.login"
   ]
  },
  {
   "cell_type": "code",
   "execution_count": 83,
   "metadata": {},
   "outputs": [
    {
     "data": {
      "text/plain": [
       "False"
      ]
     },
     "execution_count": 83,
     "metadata": {},
     "output_type": "execute_result"
    }
   ],
   "source": [
    "kostya = User('kostya', 'kik0s', '********')\n",
    "kostya.check('kik0s', 'password')"
   ]
  },
  {
   "cell_type": "markdown",
   "metadata": {},
   "source": [
    "### Примитивный менеджер паролей\n",
    "\n",
    "В общем, раз мы только что создали класс интернет-пользователя, давайте создадим какой-нибудь примитивный механизм для хранения пользователей и их авторизации.\n",
    "\n",
    "Общий план:\n",
    "\n",
    "1. Мы создадим список пользователей\n",
    "2. Мы научимся добавлять в этот список пользователя, автоматически генерируя ему пароль.\n",
    "3. Копию пароля мы вернем, чтобы пользователь ее не забыл (кстати, некоторые сайты так и делают, просто кидают пароль на почту).\n",
    "4. Для того, чтобы залогиниться по паре логин-пароль мы пройдемся по всем пользователям и проверим, что в них можно залогиниться с помощью метода `check`\n",
    "5. Если получилось залогиниться, мы напишем персональное приветствие"
   ]
  },
  {
   "cell_type": "markdown",
   "metadata": {},
   "source": [
    "Импорты нужны для того, чтобы мы могли пользоваться каким-то кодом, который написали за нас другие умные программисты"
   ]
  },
  {
   "cell_type": "code",
   "execution_count": 100,
   "metadata": {},
   "outputs": [],
   "source": [
    "import string\n",
    "import random"
   ]
  },
  {
   "cell_type": "code",
   "execution_count": 101,
   "metadata": {},
   "outputs": [],
   "source": [
    "users = []\n",
    "def add_user(name, login):\n",
    "    # https://stackoverflow.com/questions/2257441/random-string-generation-with-upper-case-letters-and-digits\n",
    "    users.append(User(name, login, ''.join(random.choices(string.ascii_lowercase, k=8))))\n",
    "    return users[-1].password"
   ]
  },
  {
   "cell_type": "code",
   "execution_count": 102,
   "metadata": {},
   "outputs": [
    {
     "data": {
      "text/plain": [
       "'jegqpamz'"
      ]
     },
     "execution_count": 102,
     "metadata": {},
     "output_type": "execute_result"
    }
   ],
   "source": [
    "add_user('kostya', 'kik0s')"
   ]
  },
  {
   "cell_type": "code",
   "execution_count": 103,
   "metadata": {},
   "outputs": [
    {
     "data": {
      "text/plain": [
       "'jwnimpst'"
      ]
     },
     "execution_count": 103,
     "metadata": {},
     "output_type": "execute_result"
    }
   ],
   "source": [
    "add_user('admin', 'root')"
   ]
  },
  {
   "cell_type": "code",
   "execution_count": 104,
   "metadata": {},
   "outputs": [
    {
     "data": {
      "text/plain": [
       "<__main__.User at 0x7fdbe0340640>"
      ]
     },
     "execution_count": 104,
     "metadata": {},
     "output_type": "execute_result"
    }
   ],
   "source": [
    "users[0]"
   ]
  },
  {
   "cell_type": "code",
   "execution_count": 105,
   "metadata": {},
   "outputs": [],
   "source": [
    "def login(login, password):\n",
    "    result = ''\n",
    "    for user in users:\n",
    "        if user.check(login, password):\n",
    "            assert result == '', 'multiple accounts fit one login-password pair'\n",
    "            result = 'Hello, ' + user.name + '!'\n",
    "    if result == '':\n",
    "        result = 'Login failed'\n",
    "    return result"
   ]
  },
  {
   "cell_type": "code",
   "execution_count": 106,
   "metadata": {},
   "outputs": [
    {
     "data": {
      "text/plain": [
       "'Login failed'"
      ]
     },
     "execution_count": 106,
     "metadata": {},
     "output_type": "execute_result"
    }
   ],
   "source": [
    "login('kik0s', 'password')"
   ]
  },
  {
   "cell_type": "code",
   "execution_count": 107,
   "metadata": {},
   "outputs": [
    {
     "data": {
      "text/plain": [
       "'Hello, kostya!'"
      ]
     },
     "execution_count": 107,
     "metadata": {},
     "output_type": "execute_result"
    }
   ],
   "source": [
    "# small hack - my user has a randomly changing password,\n",
    "# so instead of typing it i just pass it's true value as argument\n",
    "login('kik0s', users[0].password)"
   ]
  },
  {
   "cell_type": "markdown",
   "metadata": {},
   "source": [
    "## Как это все запомнить?????\n",
    "\n",
    "**А не надо.**\n",
    "\n",
    "Лучше научитесь пользоваться гуглом. Вам важно понимать, что должна делать команда, которая вам нужна, и правильно сформулировать гугл-запрос. После этого вы наверняка найдете вопрос на форуме, которому три тысячи лет, а в ответах лежит подробное объяснение.\n",
    "\n",
    "Общая схема такая:\n",
    "\n",
    "**Делаем гугл-запрос**\n",
    "   \n",
    "$   \\downarrow$\n",
    "   \n",
    "**Идем по первой ссылке на stackowerflow**\n",
    "   \n",
    "$   \\downarrow$\n",
    "   \n",
    "**Копипастим ответ к себе**\n",
    "   \n",
    "$   \\downarrow$\n",
    "   \n",
    "**Профит**\n",
    "\n",
    "Не стесняйтесь того, что вы гуглите. Ваша ценность, как программиста, определяется именно тем, сколько вещей вы можете грамотно загуглить и применить. Никому не важно, какие там сигнатуры методов вы помните, если на работе это смотрится за 10 кликов"
   ]
  },
  {
   "cell_type": "markdown",
   "metadata": {},
   "source": [
    "## Git\n",
    "\n",
    "Git - это такая система, которая помогает программистам работать над проектами с кодом. Каждый такой проект называется **репозиторием**. В гите есть много разных штук, но нам много не нужно. Нам нужно:\n",
    "\n",
    "* Клонирование репозитория\n",
    "* Статус и лог\n",
    "* Добавление файлов в коммит\n",
    "* Коммит\n",
    "* Отправка коммита в репозиторий\n",
    "\n",
    "Давайте по шагам разберемся"
   ]
  },
  {
   "cell_type": "markdown",
   "metadata": {},
   "source": [
    "Для начала нужно создать где-нибудь репозиторий. Я предлагаю создавать их на https://github.com, но если вам милее другое место, то пожалуйста. Это то место в интернете, где будет храниться ваш код. Теперь вы можете с любого компьютера склонировать себе этот репозиторий (а также любой другой публичный репозиторий):\n",
    "\n",
    "`git clone https://github.com/TheAlgorithms/Python.git`"
   ]
  },
  {
   "cell_type": "markdown",
   "metadata": {},
   "source": [
    "Основная сущность, которая есть в гите - **коммиты**. Что это такое? Это состояние, в котором находился репозиторий. Иначе говоря, что лежало в каких файлах. Каждый новый коммит - это новая версия вашего репозитория. На самом деле, это похоже на то, чтобы сохранять каждый раз новую версию папки с подписями _final_ , _new_ , _fix_ , _fix_fix_ и прочее, но только сделанное очень хорошо и являющееся стандартом в индустрии."
   ]
  },
  {
   "cell_type": "markdown",
   "metadata": {},
   "source": [
    "Когда вы сделали какие-то изменения в своих файлах, надо взять и сказать гиту, какие изменения нужно добавить в **коммит**. Это делается командой `git add`:\n",
    "\n",
    "    `git add sript.py config.json`\n",
    "\n",
    "Все остальные файлы останутся в вашей директории, но в коммит не добавятся. Часто делают `git add .`, который добавляет всю директорию. Считается плохим тоном, но для начинающих сгодится.\n",
    "\n",
    "После этого можно сделать `git commit`. Я обычно делаю так:\n",
    "\n",
    "    `git commit -am \"commit decription\"`\n",
    "   \n",
    "Флаг **-m** отвечает за то, чтобы сразу в кавычках написать подпись, а флаг **-a** - за то, чтобы автоматически сделать `git add` для всех файлов, которые я когда-то уже добавил в репозиторий.\n",
    "\n",
    "Чтобы залить на сервер, сделайте `git push`. Часто гит будет вас о чем-то дополнительно спрашивать. Обычно ему нужен какой-нибудь `git remote add origin URL`.\n",
    "\n",
    "Чтобы понимать, что происходит (из консоли уследить сложно), используйте команды `git status`, `git log` и `git diff`. Первая говорит, какие файлы в директории изменились, ее часто используют перед `git add`. `git log` нужна для того, чтобы посмотреть на дерево коммитов. `git diff` нужна для того, чтобы сравнивать коммиты между собой и понимать, какие в них были различия."
   ]
  },
  {
   "cell_type": "markdown",
   "metadata": {},
   "source": [
    "**В этот момент я планирую показать на занятии, как это все делается. Если вам что-то непонятно, можете попытаться найти запись или посмотреть какие-то видосы на ютубе**\n",
    "\n",
    "**ВАЖНО!** Если вы во время работы со своим репозитоием сделали какую-то хрень (например, добавили не тот файл, который нужно или залили на сервер плохой коммит, попробуйте сначала спросить совета в чате. Если начать копипастить команды из stackoverflow бездумно, можно все сломать и убить весь день."
   ]
  },
  {
   "cell_type": "markdown",
   "metadata": {},
   "source": [
    "Если вам нужна самая простая схема, то она выглядит так (после того, как все настроилось):\n",
    "\n",
    "```\n",
    "git clone https://URL.git # do it once\n",
    "git add .\n",
    "git commit -am \"commit description\"\n",
    "git push \n",
    "```"
   ]
  },
  {
   "cell_type": "markdown",
   "metadata": {},
   "source": [
    "Я не уверен, прогрузилось ли это на превью, но я сделал на видео все то, что нужно в простом сценарии\n",
    "<img src=\"./github_work.gif\" width=\"1000dp\">"
   ]
  },
  {
   "cell_type": "markdown",
   "metadata": {},
   "source": [
    "## Bash\n",
    "\n",
    "В этом разделе мы поговорим про то, как работать с командной строкой.\n",
    "\n",
    "Командная строка (aka терминал, консоль) везде разная:\n",
    "* На Windows проще всего открыть ее через Win+R -> `cmd`\n",
    "* Mac OS: Spotlight -> Terminal\n",
    "* Если у вас Linux, вы точно умеете это делать и без меня\n",
    "\n",
    "---\n",
    "\n",
    "* **Bash** - это язык терминала для Linux / Mac OS\n",
    "\n",
    "* **Batch** - это язык терминала для Windows\n",
    "\n",
    "Они достаточно похожи, но стандартом в индустрии является **bash**, потому что разрабатывают чаще всего под Linux.\n",
    "\n",
    "Что это за языки и зачем они нужны?\n",
    "\n",
    "На самом деле, все команды, которые вы в командной строке пишете, и являются командами этих языков. Язык поддерживает и циклы, и условия, и функции, но, **поверьте мне**, вы не хотите их использовать (а тем более - учить).\n",
    "\n",
    "Поэтому нам с вами нужно научиться не программировать на еще одном языке, а просто ориентироваться в командной строке. А дальше мы уже как-нибудь разберемся, как это использовать дальше.\n",
    "\n",
    "Скорее всего, не все команды, показанные ниже, будут у вас работать. Где-то надо доставить пакеты, которые можно найти в apt/brew/etc, зависит от вашей операционной системы."
   ]
  },
  {
   "cell_type": "markdown",
   "metadata": {},
   "source": [
    "Возможно, какие-то команды не заработают совсем, если запустить из-под винды. Ну, я с этим ничего сделать не смогу, можете найти аналоги команд для batch"
   ]
  },
  {
   "cell_type": "markdown",
   "metadata": {},
   "source": [
    "На самом деле, чтобы использовать всю прелесть терминала, достаточно использовать небольшое количество команд: `os.system`, `os.popen`"
   ]
  },
  {
   "cell_type": "code",
   "execution_count": 108,
   "metadata": {},
   "outputs": [],
   "source": [
    "import os"
   ]
  },
  {
   "cell_type": "code",
   "execution_count": 109,
   "metadata": {},
   "outputs": [
    {
     "data": {
      "text/plain": [
       "'5\\n'"
      ]
     },
     "execution_count": 109,
     "metadata": {},
     "output_type": "execute_result"
    }
   ],
   "source": [
    "# echo 5 = print(5) in bash\n",
    "os.popen('echo 5').read()"
   ]
  },
  {
   "cell_type": "markdown",
   "metadata": {},
   "source": [
    "# Работа с директорией"
   ]
  },
  {
   "cell_type": "markdown",
   "metadata": {},
   "source": [
    "Основная вещь, для которой вам нужна командная строка - навигироваться по директориям и работать с файлами. Именно это действие сильнее всего облегчается тем, что вы пишете текст, а не кликаете в проводник. Люди, давно работающие в терминале, очень хорошо помнят свое файловое дерево. У меня оно, например, выглядит так:\n",
    "\n",
    "$\n",
    "\\text{/home} \\\\\n",
    "\\quad\\text{/kikos} \\\\\n",
    "\\quad|\\quad\\text{/dev} \\\\\n",
    "\\quad|\\quad|\\quad\\text{/project_seminars} \\\\\n",
    "\\quad|\\quad\\text{/Downloads} \\\\\n",
    "\\quad|\\quad|\\quad\\text{/Telegram Desktop} \\\\\n",
    "\\quad|\\quad\\text{/Music} \\\\\n",
    "\\quad|\\quad\\text{/Pictures} \\\\\n",
    "$\n",
    "\n",
    "Главное понятие в консоли - **текущая директория**. Именно в ней вы будете делать какие-то команды и именно с файлами этой директории вы будете работать. По директориям можно гулять с помощью команды `cd`."
   ]
  },
  {
   "cell_type": "code",
   "execution_count": 110,
   "metadata": {},
   "outputs": [
    {
     "name": "stdout",
     "output_type": "stream",
     "text": [
      "/home/kikos/dev/start_it/1. python scripts\n",
      "\n"
     ]
    }
   ],
   "source": [
    "# prints working directory\n",
    "print(os.popen('pwd').read())"
   ]
  },
  {
   "cell_type": "code",
   "execution_count": 111,
   "metadata": {},
   "outputs": [
    {
     "name": "stdout",
     "output_type": "stream",
     "text": [
      "1. python scripts.ipynb\n",
      "github_work.gif\n",
      "script.py\n",
      "\n"
     ]
    }
   ],
   "source": [
    "# ls prints all files in directory\n",
    "print(os.popen('ls').read())"
   ]
  },
  {
   "cell_type": "markdown",
   "metadata": {},
   "source": [
    "Команды можно хитро комбинировать"
   ]
  },
  {
   "cell_type": "code",
   "execution_count": 112,
   "metadata": {},
   "outputs": [
    {
     "name": "stdout",
     "output_type": "stream",
     "text": [
      "      1       4      15\n",
      "\n"
     ]
    }
   ],
   "source": [
    "# wc counts lines, words, symbols in text\n",
    "# symbol | is used to pass output of first command to second command\n",
    "print(os.popen('echo \"123 123 111 23\"| wc').read())"
   ]
  },
  {
   "cell_type": "code",
   "execution_count": 113,
   "metadata": {},
   "outputs": [
    {
     "name": "stdout",
     "output_type": "stream",
     "text": [
      "1. python scripts\n",
      "2. document processing\n",
      "\n"
     ]
    }
   ],
   "source": [
    "# head prints top-n lines from it's imput\n",
    "print(os.popen('cd ../ && ls | head -n 2').read())"
   ]
  },
  {
   "cell_type": "code",
   "execution_count": 114,
   "metadata": {},
   "outputs": [
    {
     "name": "stdout",
     "output_type": "stream",
     "text": [
      "      3       5      50\n",
      "\n"
     ]
    }
   ],
   "source": [
    "print(os.popen('ls | wc').read())"
   ]
  },
  {
   "cell_type": "code",
   "execution_count": 115,
   "metadata": {},
   "outputs": [
    {
     "name": "stdout",
     "output_type": "stream",
     "text": [
      "On branch main\n",
      "Your branch is up to date with 'origin/main'.\n",
      "\n",
      "Changes not staged for commit:\n",
      "  (use \"git add <file>...\" to update what will be committed)\n",
      "  (use \"git restore <file>...\" to discard changes in working directory)\n",
      "\tmodified:   1. python scripts.ipynb\n",
      "\n",
      "Untracked files:\n",
      "  (use \"git add <file>...\" to include in what will be committed)\n",
      "\t.ipynb_checkpoints/\n",
      "\n",
      "no changes added to commit (use \"git add\" and/or \"git commit -a\")\n",
      "\n"
     ]
    }
   ],
   "source": [
    "print(os.popen('git status').read())"
   ]
  },
  {
   "cell_type": "code",
   "execution_count": 116,
   "metadata": {},
   "outputs": [
    {
     "name": "stdout",
     "output_type": "stream",
     "text": [
      "Sat  4 Sep 21:46:44 MSK 2021\n",
      "\n"
     ]
    }
   ],
   "source": [
    "print(os.popen('date').read())"
   ]
  },
  {
   "cell_type": "code",
   "execution_count": 117,
   "metadata": {},
   "outputs": [
    {
     "name": "stdout",
     "output_type": "stream",
     "text": [
      "You will hear good news from one you thought unfriendly to you.\n",
      "\n"
     ]
    }
   ],
   "source": [
    "print(os.popen('fortune').read())"
   ]
  },
  {
   "cell_type": "markdown",
   "metadata": {},
   "source": [
    "### Анимация в командной строке\n",
    "Несколько вещей полезно: команда `clear` и символ `\\\\r`, который возвращает каретку обратно. Смотрите:"
   ]
  },
  {
   "cell_type": "code",
   "execution_count": 118,
   "metadata": {},
   "outputs": [
    {
     "name": "stdout",
     "output_type": "stream",
     "text": [
      "echo -ne \"\\r0 %\";sleep 1;echo -ne \"\\r10 %\";sleep 1;echo -ne \"\\r20 %\";sleep 1;echo -ne \"\\r30 %\";sleep 1;echo -ne \"\\r40 %\";sleep 1;echo -ne \"\\r50 %\";sleep 1;echo -ne \"\\r60 %\";sleep 1;echo -ne \"\\r70 %\";sleep 1;echo -ne \"\\r80 %\";sleep 1;echo -ne \"\\r90 %\";sleep 1;echo -ne \"\\r100 %\";sleep 1;\n"
     ]
    }
   ],
   "source": [
    "percentage = [0, 10, 20, 30, 40, 50, 60, 70, 80, 90, 100]\n",
    "command = ''\n",
    "for x in percentage:\n",
    "    command += 'echo -ne \"\\\\r' + str(x) + ' %\";sleep 1;'\n",
    "print(command)\n",
    "# copy this to your bash terminal"
   ]
  },
  {
   "cell_type": "markdown",
   "metadata": {},
   "source": [
    "### Запуск кода\n",
    "\n",
    "`python3 filename.py`\n",
    "    \n",
    "Привыкайте к тому, чтобы запускать свой код в консоли, так делают в куче айти-компаний. И у вас нет других вариантов, если вы будете подключаться к удаленным серверам. А главное - по непонятной причине, это очень удобно. Нет ничего лишнего. Разрабатываете в красивом блокноте (sublime text 3, visual studio code, vim), а запускаете все из своей консоли."
   ]
  },
  {
   "cell_type": "code",
   "execution_count": 119,
   "metadata": {},
   "outputs": [
    {
     "name": "stdout",
     "output_type": "stream",
     "text": [
      "N = 5\n",
      "for i in range(N):\n",
      "\tfor j in range(N - i):\n",
      "\t\tprint('-', end='')\n",
      "\tprint('/', end='')\n",
      "\tfor j in range(i * 2):\n",
      "\t\tprint(',', end='')\n",
      "\tprint('\\\\', end='')\n",
      "\tfor j in range(N - i):\n",
      "\t\tprint('-',end='')\n",
      "\tprint()\n",
      "for i in range(N - 1, -1, -1):\n",
      "\tfor j in range(N - i):\n",
      "\t\tprint('-', end='')\n",
      "\tprint('\\\\', end='')\n",
      "\tfor j in range(i * 2):\n",
      "\t\tprint(',', end='')\n",
      "\tprint('/', end='')\n",
      "\tfor j in range(N - i):\n",
      "\t\tprint('-',end='')\n",
      "\tprint()\n",
      "\n"
     ]
    }
   ],
   "source": [
    "print(os.popen('cat script.py').read())"
   ]
  },
  {
   "cell_type": "code",
   "execution_count": 120,
   "metadata": {},
   "outputs": [
    {
     "name": "stdout",
     "output_type": "stream",
     "text": [
      "-----/\\-----\n",
      "----/,,\\----\n",
      "---/,,,,\\---\n",
      "--/,,,,,,\\--\n",
      "-/,,,,,,,,\\-\n",
      "-\\,,,,,,,,/-\n",
      "--\\,,,,,,/--\n",
      "---\\,,,,/---\n",
      "----\\,,/----\n",
      "-----\\/-----\n",
      "\n"
     ]
    }
   ],
   "source": [
    "print(os.popen('python3 script.py').read())"
   ]
  },
  {
   "cell_type": "markdown",
   "metadata": {},
   "source": [
    "# Домашнее задание\n",
    "Это первое домашнее задание курса, поэтому тут важно будет понять, что я от вас хочу:\n",
    "\n",
    "1. Создайте гит-репозиторий под конкретно эту домашку курса\n",
    "2. Разработайте там проект - консольное приложение или какой-нибудь скрипт.\n",
    "3. Пропишите в  Readme функционал и инструкцию по запуску\n",
    "3. Скиньте к дедлайну в форму ссылку на гит-репозиторий. Я со своей стороны делаю следующее:\n",
    "    1. Клонирую к себе с помощью `git clone`\n",
    "    2. Смотрю на инструкцию по запуску в файле README.md (или подобном)\n",
    "    3. По инструкции запускаю и немного играю, чтобы понять, что вы сделали\n",
    "    4. Получившийся результат скидываю в канал\n",
    "\n",
    "Пожалуйста, проверяйте, что ваш проект рабочий, прежде чем скидывать ссылку в форму."
   ]
  },
  {
   "cell_type": "markdown",
   "metadata": {},
   "source": [
    "##  Что сделать в домашке?\n",
    "\n",
    "Лучше всего - подумать и сделать что-то **полезное** или **прикольное**. Единственное ограничение - это должно быть консольным приложением или скриптом. Желательно - чтобы не слишком тривиально получилось. Все остальное - на ваш вкус.\n",
    "\n",
    "Вот примеры того, что можно сделать, если хочется:\n",
    "* Менеджер паролей, можно даже потом его использовать и не бояться за сохранность данных :) \n",
    "* Скачивалку электронных книг по ссылке на страницу (в рамках одной или нескольких интернет-платформ) https://aldebaran.ru/author/defo_daniyel/kniga_robinzon_kruzo, ключевое слово для поиска в гугле будет `wget`\n",
    "* Команду, которая рисует консольную анимацию (например, падающие снежинки)\n",
    "* Скрипт, который автоматизирует работу с гитхабом (по одной команде предложит по очереди измененные файлы для git add, а потом сделает коммит и запушит все на сервер\n",
    "* Консольная змейка c анимацией\n",
    "* (если хочется сильно упороться) Калькулятор, который умеет считать производные и интегралы. Можно начать с многочленов, а потом прочитать про методы численного интегрирования (например, Симпсона) и интерполяционный многочлен Лагранжа. Пределы и производные можно считать буквально по определению до какой-то там погрешности. \n",
    "\n",
    "Помните, что у вас нет никакого четкого задания, а любое творчество оценивается положительно. В конце концов, потом этот код будет в вашем гитхабе, не в моем :)\n",
    "\n",
    "Можете погуглить прикольные bash-команды и вдохновиться подборками по типу этой: https://www.tecmint.com/20-funny-commands-of-linux-or-linux-is-fun-in-terminal/\n",
    "\n",
    "Или игрушками типа этой: https://www.youtube.com/watch?v=nDdKIxnEyh0\n",
    "\n",
    "Не старайтесь сделать что-то очень сложное - вы будете делать проект раз в месяц, будет грустно устать от курса и не пройти его. Лучше сконцентрируйтесь на том, чтобы сделать что-то осмысленное. Идеально, если проект можно сделать за пару дней, после чего еще пару дней потратить на его причесывание (можете больше - круто). А еще вы всегда можете постепенно наращивать сложность проекта. Например, прежде чем делать змейку, сделать звездочку, бегающую по полю, потом заставить ее бегать за яблоками, потом начать считать очки, а потом добавить ей хвост. Так вы оставляете за собой право не доделать проект до конца (мало ли, что у вас там происходит в школе и универе) и не остаться с пустыми руками."
   ]
  },
  {
   "cell_type": "markdown",
   "metadata": {},
   "source": [
    "### Сроки сдачи\n",
    "#### TBA"
   ]
  },
  {
   "cell_type": "markdown",
   "metadata": {},
   "source": [
    "## Что еще можно почитать по теме?\n",
    "\n",
    "* Аргументы скриптов в командной строке - помогает для того, чтобы ваша программа была более гибкой\n",
    "* Язык bash - циклы с условиями могут пригодиться в повседневной жизни"
   ]
  }
 ],
 "metadata": {
  "kernelspec": {
   "display_name": "Python 3",
   "language": "python",
   "name": "python3"
  },
  "language_info": {
   "codemirror_mode": {
    "name": "ipython",
    "version": 3
   },
   "file_extension": ".py",
   "mimetype": "text/x-python",
   "name": "python",
   "nbconvert_exporter": "python",
   "pygments_lexer": "ipython3",
   "version": "3.8.10"
  }
 },
 "nbformat": 4,
 "nbformat_minor": 4
}
