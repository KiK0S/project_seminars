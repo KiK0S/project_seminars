{
 "cells": [
  {
   "cell_type": "markdown",
   "metadata": {},
   "source": [
    "# Занятие 2.\n",
    "## Файлы, документы, Json, markdown, latex, office\n",
    "\n",
    "Файлы будут нужны вам всегда. В первую очередь для того, чтобы запоминать какую-либо информацию, которая пригодится, когда ваша программа закончит выполнение. Во-вторых, потому что в оперативную память все не влезет (а ведь именно там хранится все, что использует ваша программа).\n",
    "\n",
    "Обычно программисты работают с файловой системой Unix, но большая часть сказанного перекладывается и на windows.\n",
    "\n",
    "---\n",
    "### Операции с файлами, права\n",
    "\n",
    "Обычно от вас требуется либо чтение файла, либо запись в файл. Еще файлы можно исполнять, но это другая история, которая сейчас нас не очень интересует.\n",
    "\n",
    "Про права достаточно знать то, что если у вас нет прав на чтение, то вы не просмотрите файл, а если нет прав на запись, то не сможете его изменить. Следите за тем, чтобы они были."
   ]
  },
  {
   "cell_type": "code",
   "execution_count": 1,
   "metadata": {},
   "outputs": [],
   "source": [
    "with open('test.txt', 'w') as f:\n",
    "    f.write('kek\\n')\n",
    "    f.write('lol\\n')\n",
    "    f.write('arbidol\\n')"
   ]
  },
  {
   "cell_type": "code",
   "execution_count": 2,
   "metadata": {},
   "outputs": [
    {
     "name": "stdout",
     "output_type": "stream",
     "text": [
      "kek\n",
      "lol\n",
      "arbidol\n",
      "\n"
     ]
    }
   ],
   "source": [
    "with open('test.txt', 'r') as f:\n",
    "    print(f.read())"
   ]
  },
  {
   "cell_type": "code",
   "execution_count": 4,
   "metadata": {},
   "outputs": [
    {
     "ename": "UnsupportedOperation",
     "evalue": "not writable",
     "output_type": "error",
     "traceback": [
      "\u001b[0;31m---------------------------------------------------------------------------\u001b[0m",
      "\u001b[0;31mUnsupportedOperation\u001b[0m                      Traceback (most recent call last)",
      "\u001b[0;32m<ipython-input-4-75ba92b1036a>\u001b[0m in \u001b[0;36m<module>\u001b[0;34m\u001b[0m\n\u001b[1;32m      2\u001b[0m \u001b[0;31m# try:\u001b[0m\u001b[0;34m\u001b[0m\u001b[0;34m\u001b[0m\u001b[0;34m\u001b[0m\u001b[0m\n\u001b[1;32m      3\u001b[0m \u001b[0;32mwith\u001b[0m \u001b[0mopen\u001b[0m\u001b[0;34m(\u001b[0m\u001b[0;34m'test.txt'\u001b[0m\u001b[0;34m,\u001b[0m \u001b[0;34m'r'\u001b[0m\u001b[0;34m)\u001b[0m \u001b[0;32mas\u001b[0m \u001b[0mf\u001b[0m\u001b[0;34m:\u001b[0m\u001b[0;34m\u001b[0m\u001b[0;34m\u001b[0m\u001b[0m\n\u001b[0;32m----> 4\u001b[0;31m     \u001b[0mf\u001b[0m\u001b[0;34m.\u001b[0m\u001b[0mwrite\u001b[0m\u001b[0;34m(\u001b[0m\u001b[0;34m'kek\\n'\u001b[0m\u001b[0;34m)\u001b[0m\u001b[0;34m\u001b[0m\u001b[0;34m\u001b[0m\u001b[0m\n\u001b[0m\u001b[1;32m      5\u001b[0m \u001b[0;31m# except:\u001b[0m\u001b[0;34m\u001b[0m\u001b[0;34m\u001b[0m\u001b[0;34m\u001b[0m\u001b[0m\n\u001b[1;32m      6\u001b[0m \u001b[0;31m#     print('Я же говорил - следи за правами!')\u001b[0m\u001b[0;34m\u001b[0m\u001b[0;34m\u001b[0m\u001b[0;34m\u001b[0m\u001b[0m\n",
      "\u001b[0;31mUnsupportedOperation\u001b[0m: not writable"
     ]
    }
   ],
   "source": [
    "# error expected\n",
    "# try:\n",
    "with open('test.txt', 'r') as f:\n",
    "    f.write('kek\\n')\n",
    "# except:\n",
    "#     print('Я же говорил - следи за правами!')"
   ]
  },
  {
   "cell_type": "markdown",
   "metadata": {},
   "source": [
    "## Форматы для передачи данных\n",
    "\n",
    "Мы сейчас обсудим кучу разных форматов. Они используются для разной передачи не-мультимедиа данных (про картинки, видео и аудио можете сделать самостоятельное исследование).\n",
    "\n",
    "Общий план работы с данными --- это сначала выяснение, в каком формате нам хочется работать, после чего можно сделать гугл-запрос \"format + python\", и найти библиотеку, которая делает то, что вам нужно, по первой ссылке в гугле."
   ]
  },
  {
   "cell_type": "markdown",
   "metadata": {},
   "source": [
    "### JSON\n",
    "Json - это такой формат, в котором можно записать любые данные (за что его все, собственно, и любят). Он строится через набор сущностей:\n",
    "* Число\n",
    "* Строка\n",
    "* Массив, в котором хранится сколько-то однотипных сущностей\n",
    "* Объект, который хранит сколько-то полей. У поля есть название-строка и значение-сущность.\n",
    "\n",
    "Получается, что json-ом можно описать данные любого уровня вложенности.\n",
    "И это очень похоже на объявление словарей в питоне.\n",
    "\n",
    "Обычно этот формат используется для передачи данных в интернете"
   ]
  },
  {
   "cell_type": "code",
   "execution_count": 6,
   "metadata": {},
   "outputs": [
    {
     "data": {
      "text/plain": [
       "'{\"items\": [{\"name\": \"Apple\", \"value\": {\"cost\": 13.5, \"quantity\": 4}}, {\"name\": \"Book\", \"value\": {\"cost\": 24, \"quantity\": 2}}]}'"
      ]
     },
     "execution_count": 6,
     "metadata": {},
     "output_type": "execute_result"
    }
   ],
   "source": [
    "import json\n",
    "json_data = {\n",
    "    'items': [\n",
    "        {\n",
    "            'name': 'Apple',\n",
    "            'value': {\n",
    "                'cost': 13.50,\n",
    "                'quantity': 4\n",
    "            }\n",
    "        },\n",
    "        {\n",
    "            'name': 'Book',\n",
    "            'value': {\n",
    "                'cost': 24,\n",
    "                'quantity': 2\n",
    "            }\n",
    "        }\n",
    "    ]\n",
    "}\n",
    "\n",
    "json.dump(json_data, open('test.json', 'w'), indent=True)\n",
    "json.dumps(json_data) #returns str"
   ]
  },
  {
   "cell_type": "code",
   "execution_count": 7,
   "metadata": {},
   "outputs": [
    {
     "name": "stdout",
     "output_type": "stream",
     "text": [
      "quantity of apples: 4\n"
     ]
    },
    {
     "data": {
      "text/plain": [
       "[{'name': 'Apple', 'value': {'cost': 13.5, 'quantity': 4}}]"
      ]
     },
     "execution_count": 7,
     "metadata": {},
     "output_type": "execute_result"
    }
   ],
   "source": [
    "json_data = json.loads('[{\"name\": \"Apple\", \"value\": {\"cost\": 13.5, \"quantity\": 4}}]')\n",
    "print('quantity of apples:', json_data[0]['value']['quantity'])\n",
    "json_data"
   ]
  },
  {
   "cell_type": "markdown",
   "metadata": {},
   "source": [
    "### XML, HTML\n",
    "\n",
    "Это два однотипных языка, которые собраны на основе **тегов**. А именно, с помощью вложенной системы `<tag> ... </tag>` можно выделить какой-то блок.\n",
    "\n",
    "Я с этим форматом работаю достаточно мало. Его основной принцип -- создать древовидную структуру (кажется, в вебе это любят называть [DOM](https://ru.wikipedia.org/wiki/Document_Object_Model). XML является аналогом JSON, проигравшим гонку стандарта передачи данных в вебе, а HTML используется для разметки сайтов.\n",
    "\n",
    "Мы в будущем, возможно, будем их использовать, но я сходу не знаю, что с ними можно хорошего сделать"
   ]
  },
  {
   "cell_type": "code",
   "execution_count": 8,
   "metadata": {},
   "outputs": [
    {
     "data": {
      "text/plain": [
       "'note'"
      ]
     },
     "execution_count": 8,
     "metadata": {},
     "output_type": "execute_result"
    }
   ],
   "source": [
    "import xml.etree.ElementTree as xml\n",
    "note = xml.fromstring('''<note>\n",
    "<to>Tove</to>\n",
    "<from>Jani</from>\n",
    "<heading>Reminder</heading>\n",
    "<body>Don't forget me this weekend!</body>\n",
    "<item><name>First item</name></item>\n",
    "<item><name>Second item</name></item>\n",
    "</note>''')\n",
    "note.tag"
   ]
  },
  {
   "cell_type": "code",
   "execution_count": 9,
   "metadata": {},
   "outputs": [
    {
     "data": {
      "text/plain": [
       "'to'"
      ]
     },
     "execution_count": 9,
     "metadata": {},
     "output_type": "execute_result"
    }
   ],
   "source": [
    "note.find('to').tag"
   ]
  },
  {
   "cell_type": "code",
   "execution_count": 10,
   "metadata": {},
   "outputs": [
    {
     "data": {
      "text/plain": [
       "\"Don't forget me this weekend!\""
      ]
     },
     "execution_count": 10,
     "metadata": {},
     "output_type": "execute_result"
    }
   ],
   "source": [
    "note.find('body').text"
   ]
  },
  {
   "cell_type": "code",
   "execution_count": 11,
   "metadata": {},
   "outputs": [
    {
     "data": {
      "text/plain": [
       "'First item'"
      ]
     },
     "execution_count": 11,
     "metadata": {},
     "output_type": "execute_result"
    }
   ],
   "source": [
    "note.findall('item')[0].find('name').text"
   ]
  },
  {
   "cell_type": "markdown",
   "metadata": {},
   "source": [
    "## Форматы для рабты с документами\n",
    "\n",
    "Вообще, я выработал примерно такое правило по работе с документами. Если ваш заказчик не является отвратительным человеком со странными требованиями, работайте с чем-нибудь, что конвертируется в pdf.\n",
    "\n",
    "**Почему?** Потому что в большинстве документов нужна *верстка* -- расположение элементов друг относительно друга визулально приемлемым образом. И (о ужас!) все с чем я работал, кроме pdf, не сохраняет верстку от устройства к устройству. Или просто не открывается.\n",
    "\n",
    "Помните, как кто-то делал презентацию в libreoffice, а потом открывал ее в powerpoint, и половина текста оказывалась за пределами слайда? Вот это оно.\n",
    "\n",
    "Альтернативно можно вместо документов делать веб-странички, но в большинстве случаев это не то, что вам нужно"
   ]
  },
  {
   "cell_type": "markdown",
   "metadata": {},
   "source": [
    "### Markdown\n",
    "\n",
    "Markdown -- такой текстовый язык, который помогает писать большие файлы с текстом, умеет редактировать их характеристики, а также превращаться в html или pdf одним кликом\n",
    "\n",
    "`Этот _формат_ **используется** <strike>в Jupyter-notebook</strike>`\n",
    "\n",
    "Этот _формат_ **используется** <strike>в Jupyter-notebook</strike>\n",
    "\n",
    "Чтобы конвертировать такого рода языки в пригодные для использования документы, надо искать какие-нибудь утилиты (по типу https://pandoc.org/demos.html) или библиотеки (по типу https://github.com/trentm/python-markdown2)\n",
    "\n",
    "Основные применения -- README, jupyter-notebook-like тетрадки, кастомные статьи. Говорят, можно на основе Markdown делать презентации (см. [marp](https://marp.app/)), но у меня руки так и не дошли. Главный плюс - вам не надо думать и концентрироваться на верстке, а результат приемлемый в 90% случаев."
   ]
  },
  {
   "cell_type": "code",
   "execution_count": 12,
   "metadata": {},
   "outputs": [
    {
     "name": "stdout",
     "output_type": "stream",
     "text": [
      "Requirement already satisfied: markdown2 in /home/kikos/.local/lib/python3.8/site-packages (2.4.0)\r\n"
     ]
    }
   ],
   "source": [
    "!pip install markdown2"
   ]
  },
  {
   "cell_type": "code",
   "execution_count": 13,
   "metadata": {},
   "outputs": [
    {
     "data": {
      "text/plain": [
       "'<p>Этот <em>формат</em> <strong>используется</strong> <strike>в Jupyter-notevook</strike></p>\\n\\n<ul>\\n<li>Первый выпадающий элемент</li>\\n<li>Второй выпадающий элемент</li>\\n</ul>\\n'"
      ]
     },
     "execution_count": 13,
     "metadata": {},
     "output_type": "execute_result"
    }
   ],
   "source": [
    "import markdown2\n",
    "markdown2.markdown('''Этот _формат_ **используется** <strike>в Jupyter-notevook</strike>\n",
    "\n",
    "* Первый выпадающий элемент\n",
    "* Второй выпадающий элемент\n",
    "\n",
    "''')"
   ]
  },
  {
   "cell_type": "markdown",
   "metadata": {},
   "source": [
    "Видите? это честный html документ, который мы получили почти бесплатно"
   ]
  },
  {
   "cell_type": "markdown",
   "metadata": {},
   "source": [
    "Мой любимый пример - на markdown написана [algorithmica](https://algorithmica.org/ru/). Исходники можно посмотреть [тут](https://github.com/algorithmica-org/ru)"
   ]
  },
  {
   "cell_type": "markdown",
   "metadata": {},
   "source": [
    "## Latex\n",
    "Latex был сделан для ОЧЕНЬ умной верстки документов, а также для математических формул. Скорее всего, в нем вы сделаете свое резюме. Все остальное будет не очень полезным, если вы не техаете домашки. Если техаете домашки -- вы не будете из него вылезать. Я в какой-то момент вообще перестал конспектировать руками и перешел полностью вот в эти страшные `\\displaystyle \\int_{\\frac{1}{x}}^{x^2} e^{-x^2} dx`\n",
    "\n",
    "$$\\displaystyle \\int_{\\frac{1}{x}}^{x^2} e^{-x^2} dx$$\n",
    "\n",
    "Опять же, это не то, что вам нужно в питоне; вам это может быть нужно в каких-то абстрактных штуках. я нашел вот такой модуль https://www.geeksforgeeks.org/pylatex-module-in-python/, но мне проще по старинке генерировать из текста, давайте я вам покажу математические приколы"
   ]
  },
  {
   "cell_type": "markdown",
   "metadata": {},
   "source": [
    "`$$\\frac{x^2}{12} = 12 \\Rightarrow x = \\pm 12$$`\n",
    "\n",
    "$$\\frac{x^2}{12} = 12 \\Rightarrow x = \\pm 12$$"
   ]
  },
  {
   "cell_type": "markdown",
   "metadata": {},
   "source": [
    "Вообще, и маркдаун и латех поддерживают отображение кода, что делает их удобным для прогерских домашек. Я не смог заставить юпитер сделать код в латехе, но помню, что можно использовать пакеты `lstlisting` или `minted`\n",
    "\n",
    "    #include <iostream>\n",
    "\n",
    "    int main() {\n",
    "        int n;\n",
    "        std::cin >> n;\n",
    "        std::cout << n;\n",
    "        return 0;\n",
    "    }"
   ]
  },
  {
   "cell_type": "markdown",
   "metadata": {},
   "source": [
    "<img src=\"latex-beamer-minted.png\" width=\"500dp\"></img>"
   ]
  },
  {
   "cell_type": "markdown",
   "metadata": {},
   "source": [
    "В остальном, структура опять же вложенная, просто теги выглядят по-другому:\n",
    "\n",
    "`\\begin{enumerate}\n",
    "\\item \\text{первый элемент}\n",
    "\\item second element\n",
    "\\end{enumerate}`\n",
    "\n",
    "1. первый элемент\n",
    "2. second element\n",
    "\n",
    "Это вам лучше расскажет туториал по latex, а не я (все-таки латех достаточно сложный) --- главное знать, что тут вся работа с математикой и программированием, которая только вам может понадобиться"
   ]
  },
  {
   "cell_type": "markdown",
   "metadata": {},
   "source": [
    "### Office: excel\n",
    "\n",
    "Нашел вот тут большой гайд.\n",
    "https://codecamp.ru/blog/python-excel-tutorial/\n",
    "\n",
    "Давайте создадим какую-нибудь табличку с данными из массива и поверх график наклеим\n",
    "\n",
    "https://github.com/Khan/openpyxl/blob/master/doc/source/tutorial.rst\n",
    "https://openpyxl.readthedocs.io/en/stable/charts/line.html"
   ]
  },
  {
   "cell_type": "code",
   "execution_count": 14,
   "metadata": {},
   "outputs": [],
   "source": [
    "from openpyxl import Workbook\n",
    "from math import exp\n",
    "\n",
    "wb = Workbook()\n",
    "ws = wb.worksheets[0]\n",
    "ws.title = \"Some Data\"\n",
    "for i in range(1, 11):\n",
    "    d = ws.cell(row = i, column = 1)\n",
    "    d.value = exp(0.5 * i)"
   ]
  },
  {
   "cell_type": "code",
   "execution_count": 15,
   "metadata": {},
   "outputs": [],
   "source": [
    "from openpyxl.chart import (\n",
    "    LineChart,\n",
    "    Reference,\n",
    ")\n",
    "from openpyxl.chart.axis import DateAxis\n",
    "\n",
    "c1 = LineChart()\n",
    "c1.title = \"Exp\"\n",
    "c1.style = 13\n",
    "data = Reference(ws, min_col=1, min_row=1, max_col=1, max_row=10)\n",
    "c1.add_data(data, titles_from_data=True)\n",
    "ws.add_chart(c1, \"C12\")\n"
   ]
  },
  {
   "cell_type": "code",
   "execution_count": 18,
   "metadata": {},
   "outputs": [],
   "source": [
    "wb.save('exp.xlsx')"
   ]
  },
  {
   "cell_type": "markdown",
   "metadata": {},
   "source": [
    "Можно видеть, что получилась вот такая штука:\n",
    "\n",
    "<img src=\"table.png\" width=400>"
   ]
  },
  {
   "cell_type": "markdown",
   "metadata": {},
   "source": [
    "## JPEG\n",
    "\n",
    "Картинки удобно представлять в качестве двумерного массива, а работать с ними очень несложно --- достаточно просто понять, с каким местом таблички нужно работать\n",
    "\n",
    "https://pillow.readthedocs.io/en/stable/reference/Image.html"
   ]
  },
  {
   "cell_type": "code",
   "execution_count": 19,
   "metadata": {},
   "outputs": [],
   "source": [
    "from PIL import Image\n",
    "import PIL\n",
    "pic = Image.new('RGB', (500, 500))\n",
    "for i in range(250):\n",
    "    for j in range(250):\n",
    "        pic.putpixel((i, j), (0, 0, 50))\n",
    "        pic.putpixel((i + 250, j), (0, 100, 50))\n",
    "        pic.putpixel((i, j + 250), (100, 0, 50))\n",
    "        pic.putpixel((i + 250, j + 250), (100, 100, 50))\n",
    "pic.show()"
   ]
  },
  {
   "cell_type": "code",
   "execution_count": 29,
   "metadata": {},
   "outputs": [],
   "source": [
    "import requests\n",
    "from io import BytesIO\n",
    "\n",
    "url = 'https://www.kaggle.com/static/images/datasets/Datasets_landing_illo.png'\n",
    "response = requests.get(url)\n",
    "img = Image.open('table.png')"
   ]
  },
  {
   "cell_type": "code",
   "execution_count": 30,
   "metadata": {},
   "outputs": [],
   "source": [
    "img.show()"
   ]
  },
  {
   "cell_type": "markdown",
   "metadata": {},
   "source": [
    "## MP3\n",
    "\n",
    "Музыка - это типичный временной ряд. Обычно их представляют в виде массива, где каждый момент времени - это одна ячейка. В случае с видео это будет одна картинка. В случае с аудио - текущее напряжение на динамике. Если вкратце, то звук генерируется волной, поэтому на динамик нужно подавать попеременно разное напряжение, чтобы мы что-то слышали. Чем больше значение и чем чаще мы меняем напряжение, тем громче и тоньше звук соответственно.\n",
    "\n",
    "Я бы не сказал, что между mp3 и wav есть какая-то глобальная разница для нас, как для не-специалистов. И то, и то, вам библиотека распарсит одинаково"
   ]
  },
  {
   "cell_type": "code",
   "execution_count": 32,
   "metadata": {},
   "outputs": [],
   "source": [
    "import numpy as np\n",
    "import matplotlib.pyplot as plt\n",
    "import soundfile as sf\n",
    "import sounddevice as sd\n",
    "from pydub import AudioSegment\n",
    "import math\n",
    "%matplotlib inline\n",
    "fs = 44100"
   ]
  },
  {
   "cell_type": "code",
   "execution_count": 33,
   "metadata": {},
   "outputs": [
    {
     "data": {
      "image/png": "[encoded data removed]",
      "text/plain": [
       "<Figure size 432x288 with 1 Axes>"
      ]
     },
     "metadata": {
      "needs_background": "light"
     },
     "output_type": "display_data"
    },
    {
     "data": {
      "text/plain": [
       "<_io.BufferedRandom name='volume.mp3'>"
      ]
     },
     "execution_count": 33,
     "metadata": {},
     "output_type": "execute_result"
    }
   ],
   "source": [
    "data = np.ndarray(1)\n",
    "data[0] = 0\n",
    "V = 1\n",
    "it = 0\n",
    "num = fs // 3\n",
    "while V > 0:\n",
    "    data = np.append(data, [V * math.sin(2 * math.pi * 440 * it / fs)]) \n",
    "    V -= 1 / num\n",
    "    it += 1\n",
    "sd.play(data, fs)\n",
    "sd.wait()\n",
    "\n",
    "fig = plt.figure()\n",
    "plt.plot(data)\n",
    "plt.show()\n",
    "fig.savefig('output.png')\n",
    "\n",
    "sf.write(data=data, file='volume.wav', samplerate=fs)\n",
    "AudioSegment.from_wav('volume.wav').export('volume.mp3', format='mp3')"
   ]
  },
  {
   "cell_type": "markdown",
   "metadata": {},
   "source": [
    "Можно посмотреть, как я когда-то захардкодил [код, играющий розовую пантеру](https://github.com/KiK0S/MLLP/blob/master/generate_pink_panther.ipynb)"
   ]
  },
  {
   "cell_type": "markdown",
   "metadata": {},
   "source": [
    "## Про другое\n",
    "\n",
    "Про word и powerpoint можно либо почитать отдельно, либо принять для себя решение, что вы ими никогда не пользуетесь, а все делаете в pdf. Тогда вы опять способны все сделать с \n",
    "помощью latex и markdown.\n",
    "\n",
    "Мне случалось единожды делать такой проект. Нужно было сделать 450 обращений к депутатам Госдумы, поэтому я занимался подстановкой данных в ворде. Не самое приятное занятие, потому что там данные не особо структурированы и хранятся в непонятном блочном формате\n",
    "\n",
    "Видео-картинки-аудио-книжки и прочее может быть в любом формате, просто надо найти под него читалку"
   ]
  },
  {
   "cell_type": "markdown",
   "metadata": {},
   "source": [
    "## Домашнее задание\n",
    "\n",
    "Тут, конечно, такая тема, что особо не разгуляешься.\n",
    "\n",
    "* Табло для морского боя в экселе. Играете из консоли, но можно вывести табло + вы не потеряете результат игры.\n",
    "* Утилита для быстрого крафта презентации из тезисов. На вход -- текстовый файл с описанием презентации (заголовки + тело слайда). На выход -- презентация, собранная из этого текста, с картинками-мемами. Можете заранее скачать архив мемов\n",
    "* Смешной преобразователь текстовых документов -- такой, чтоб везде ставил смешные междометия\n",
    "* Можно изучить какой-нибудь аудио-форматы и написать либо генератор мелодий, либо парсер и проигрыватель MIDI\n",
    "* Можно применять фильтр к фоткам (см. photo booth effects), а можно крепить к ним смешной текст с помощью https://www.geeksforgeeks.org/python-pillow-writing-text-on-image/\n",
    "* Утилита, которая делает графики в ваших эксель-таблицах за вас (по набору нужных столбцов)."
   ]
  }
 ],
 "metadata": {
  "kernelspec": {
   "display_name": "Python 3",
   "language": "python",
   "name": "python3"
  },
  "language_info": {
   "codemirror_mode": {
    "name": "ipython",
    "version": 3
   },
   "file_extension": ".py",
   "mimetype": "text/x-python",
   "name": "python",
   "nbconvert_exporter": "python",
   "pygments_lexer": "ipython3",
   "version": "3.8.10"
  }
 },
 "nbformat": 4,
 "nbformat_minor": 4
}
