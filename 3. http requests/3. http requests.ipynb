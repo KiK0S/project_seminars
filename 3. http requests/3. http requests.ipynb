{
 "cells": [
  {
   "cell_type": "markdown",
   "metadata": {},
   "source": [
    "# Занятие 3.\n",
    "## HTTP requests, API"
   ]
  },
  {
   "cell_type": "markdown",
   "metadata": {},
   "source": [
    "В этот раз мы поговорим о том, что можно сделать в интернете. Внезапно окажется, что всего несколько строчек кода - и нам доступен буквально весь интернет."
   ]
  },
  {
   "cell_type": "markdown",
   "metadata": {},
   "source": [
    "Протокол HTTP предназначен для передачи данных. Именно он используется браузером, если нужно посмотреть мемы, видосики и все такое. Мы же можем его использовать чтобы получить или отправить какие-то данные с сервера или на него.\n",
    "\n",
    "Обмен сообщениями между сервером и клиентом проиходит по принципу \"запрос-ответ\". Клиент совершает некий запрос и получает на него ответ сервера."
   ]
  },
  {
   "cell_type": "markdown",
   "metadata": {},
   "source": [
    "### Структура HTTP запроса:\n",
    "\n",
    "* Строка запроса – указывает метод передачи, URL-адрес, к которому нужно обратиться и версию протокола HTTP.\n",
    "* Заголовки – описывают тело сообщений, передают различные параметры и др. сведения и информацию.\n",
    "* Тут пустая строка в качестве разделителя.\n",
    "* Тело сообщения — это сами данные, которые передаются в запросе. Тело сообщения – необязательный параметр, который может, строго говоря, и отсутствовать в нашем запросе.\n",
    "\n",
    "Например, если мы хотим получить статью википеди про http, то наш браузер сделает следующий запрос:\n",
    "\n",
    "```\n",
    "GET /wiki/HTTP HTTP/1.1\n",
    "Host: ru.wikipedia.org\n",
    "User-Agent: Mozilla/5.0 (X11; U; Linux i686; ru; rv:1.9b5) Gecko/2008050509 Firefox/3.0b5\n",
    "Accept: text/html\n",
    "Connection: close\n",
    "(пустая строка)  \n",
    "```\n",
    "\n",
    "Первые 2 строки это строка запроса, все оставшиеся - заголовки. В этом запросе отсутствует тело. Ответ на этот запрос будет следующий:\n",
    "\n",
    "```\n",
    "HTTP/1.1 200 OK\n",
    "Date: Wed, 11 Feb 2009 11:20:59 GMT\n",
    "Server: Apache\n",
    "X-Powered-By: PHP/5.2.4-2ubuntu5wm1\n",
    "Last-Modified: Wed, 11 Feb 2009 11:20:59 GMT\n",
    "Content-Language: ru\n",
    "Content-Type: text/html; charset=utf-8\n",
    "Content-Length: 1234\n",
    "Connection: close\n",
    "(пустая строка)\n",
    "(запрошенная страница в HTML)\n",
    "```"
   ]
  },
  {
   "cell_type": "markdown",
   "metadata": {},
   "source": [
    "## TL; DR\n",
    "\n",
    "HTTP - это такое соглашение о том, в каком формате слать данные, если мы работаем в сети и шлем (чаще всего) сайты. Его интересует URL, вид запроса, и его тело(иногда). Все остальное обычно является служебной информацией и вас мало волнует.  \n",
    "\n",
    "---\n"
   ]
  },
  {
   "cell_type": "markdown",
   "metadata": {},
   "source": [
    "### Виды HTTP-запросов\n",
    "\n",
    "Вообще, есть много разных видов HTTP-запросов, порядка 10. В реальности почти всегда используют два самых популярных: `GET` и `POST`\n",
    "\n",
    "* `GET` передает набор параметров к данному url. Обычно используется для почти всего, кроме тех случаев, когда параметр очень большой или нам нужна какая-то сохранность данных\n",
    "* `POST` отправляет еще и тело запроса. Обычно это какой-то файлик с данными, который серверу надо прочитать, чтобы понять, что от нас хочет клиент. Этот файлик не так просто подменить, как URL (__samplebanksite.com/send-all-your-money?from=you&to=me__)-, поэтому все чувствительные данные надо передавать именно им."
   ]
  },
  {
   "cell_type": "markdown",
   "metadata": {},
   "source": [
    "## GET-запросы\n",
    "\n",
    "Для работы в вебе в питоне уже есть модуль requests, который выполняет все, что нам нужно"
   ]
  },
  {
   "cell_type": "code",
   "execution_count": 2,
   "metadata": {},
   "outputs": [],
   "source": [
    "import requests"
   ]
  },
  {
   "cell_type": "code",
   "execution_count": 3,
   "metadata": {},
   "outputs": [],
   "source": [
    "result = requests.get('http://www.neverssl.com/')"
   ]
  },
  {
   "cell_type": "code",
   "execution_count": 4,
   "metadata": {},
   "outputs": [
    {
     "data": {
      "text/plain": [
       "200"
      ]
     },
     "execution_count": 4,
     "metadata": {},
     "output_type": "execute_result"
    }
   ],
   "source": [
    "# 200 is OK\n",
    "result.status_code"
   ]
  },
  {
   "cell_type": "code",
   "execution_count": 5,
   "metadata": {},
   "outputs": [
    {
     "data": {
      "text/plain": [
       "'<html>\\n    <head>\\n        <title>NeverSSL - helping you get online</title>\\n\\n        <style>\\n        body {\\n             font-family: Montserrat, helvetica, arial, sans-serif; \\n             font-size: 16x;\\n             color: #444444;\\n             margin: 0;\\n        }\\n        h2 {\\n            font-weight: 700;\\n            font-size: 1.6em;\\n            margin-top: 30px;\\n        }\\n        p {\\n            line-height: 1.6em;\\n        }\\n        .container {\\n            max-width: 650px;\\n            margin: 20px auto 20px auto;\\n            padding-left: 15px;\\n            padding-right: 15px\\n        }\\n        .header {\\n            background-color: #42C0FD;\\n            color: #FFFFFF;\\n            padding: 10px 0 10px 0;\\n            font-size: 2.2em;\\n        }\\n        <!-- CSS from Mark Webster https://gist.github.com/markcwebster/9bdf30655cdd5279bad13993ac87c85d -->\\n        </style>\\n    </head>\\n    <body>\\n\\n    <div class=\"header\">\\n        <div class=\"container\">\\n        <h1>NeverSSL</h1>\\n        </div>\\n    </div>\\n    \\n    <div class=\"content\">\\n    <div class=\"container\">\\n\\n    <h2>What?</h2>\\n    <p>This website is for when you try to open Facebook, Google, Amazon, etc\\n    on a wifi network, and nothing happens. Type \"http://neverssl.com\"\\n    into your browser\\'s url bar, and you\\'ll be able to log on.</p>\\n\\n    <h2>How?</h2>\\n    <p>neverssl.com will never use SSL (also known as TLS). No\\n    encryption, no strong authentication, no <a\\n    href=\"https://en.wikipedia.org/wiki/HTTP_Strict_Transport_Security\">HSTS</a>,\\n    no HTTP/2.0, just plain old unencrypted HTTP and forever stuck in the dark\\n    ages of internet security.</p> \\n\\n    <h2>Why?</h2>\\n    <p>Normally, that\\'s a bad idea. You should always use SSL and secure\\n    encryption when possible. In fact, it\\'s such a bad idea that most websites\\n    are now using https by default.</p>\\n    \\n    <p>And that\\'s great, but it also means that if you\\'re relying on\\n    poorly-behaved wifi networks, it can be hard to get online.  Secure\\n    browsers and websites using https make it impossible for those wifi\\n    networks to send you to a login or payment page. Basically, those networks\\n    can\\'t tap into your connection just like attackers can\\'t. Modern browsers\\n    are so good that they can remember when a website supports encryption and\\n    even if you type in the website name, they\\'ll use https.</p> \\n\\n    <p>And if the network never redirects you to this page, well as you can\\n    see, you\\'re not missing much.</p>\\n\\n    </div>\\n    </div>\\n    \\n    </body>\\n</html>\\n'"
      ]
     },
     "execution_count": 5,
     "metadata": {},
     "output_type": "execute_result"
    }
   ],
   "source": [
    "# now let's get our response\n",
    "result.text"
   ]
  },
  {
   "cell_type": "markdown",
   "metadata": {},
   "source": [
    "## Beautiful soup\n"
   ]
  },
  {
   "cell_type": "markdown",
   "metadata": {},
   "source": [
    "Для того, чтобы адекватно парсить html-странички, есть специальная питон-библиотека Beautiful soup. Она принимает текст html-странички, а в ответ умеет находить теги"
   ]
  },
  {
   "cell_type": "code",
   "execution_count": 6,
   "metadata": {},
   "outputs": [],
   "source": [
    "from bs4 import BeautifulSoup\n",
    "soup = BeautifulSoup(result.text)\n",
    "# print(soup.prettify()) # better structure than last print, but more text space required. try it yourself"
   ]
  },
  {
   "cell_type": "markdown",
   "metadata": {},
   "source": [
    "Я поиграл со страничкой, за счет чего смог выделить основное тело сайта. Оно выглядит так:\n",
    "\n",
    "* Тег \\<body\\>\n",
    "* Вложенный набор тегов \\<div\\>\n",
    "* В одном из тегов \\<div\\> лежит заголовок h2\n",
    "\n",
    "Вот так я достал то, что хотел:"
   ]
  },
  {
   "cell_type": "code",
   "execution_count": 7,
   "metadata": {},
   "outputs": [
    {
     "data": {
      "text/plain": [
       "<h2>What?</h2>"
      ]
     },
     "execution_count": 7,
     "metadata": {},
     "output_type": "execute_result"
    }
   ],
   "source": [
    "body = soup.body\n",
    "divs = body.find_all('div')\n",
    "what = divs[3]\n",
    "header = what.h2\n",
    "header"
   ]
  },
  {
   "cell_type": "markdown",
   "metadata": {},
   "source": [
    "## API\n",
    "\n",
    "API - это такой вид сайтов в интернете, которые предоставляют тебе набор **ручек**, которые решают какую-то свою задачу для пользователя. Зачастую API бесплатны для личного пользования и платны, если ваша нагрузка на сервис достаточно высока.\n",
    "\n",
    "Прелесть API в том, что вся сложная логика для вас спрятана, пользоваться надо только URL и параметрами.\n",
    "\n",
    "Работа с API происходит через какие-то HTTP-запросы, которые кто-то написал на отдельной страничке. Для примера я нашел: https://deckofcardsapi.com/\n",
    "\n",
    "А возвращаются данные каким-то удобным образом: чаще всего это JSON"
   ]
  },
  {
   "cell_type": "code",
   "execution_count": 1,
   "metadata": {},
   "outputs": [],
   "source": [
    "import json"
   ]
  },
  {
   "cell_type": "code",
   "execution_count": 2,
   "metadata": {},
   "outputs": [
    {
     "ename": "NameError",
     "evalue": "name 'requests' is not defined",
     "output_type": "error",
     "traceback": [
      "\u001b[0;31m---------------------------------------------------------------------------\u001b[0m",
      "\u001b[0;31mNameError\u001b[0m                                 Traceback (most recent call last)",
      "\u001b[0;32m<ipython-input-2-4b12e538a03d>\u001b[0m in \u001b[0;36m<module>\u001b[0;34m\u001b[0m\n\u001b[0;32m----> 1\u001b[0;31m \u001b[0mresult\u001b[0m \u001b[0;34m=\u001b[0m \u001b[0mjson\u001b[0m\u001b[0;34m.\u001b[0m\u001b[0mloads\u001b[0m\u001b[0;34m(\u001b[0m\u001b[0mrequests\u001b[0m\u001b[0;34m.\u001b[0m\u001b[0mget\u001b[0m\u001b[0;34m(\u001b[0m\u001b[0;34m'https://deckofcardsapi.com/api/deck/new/?deck_count=1'\u001b[0m\u001b[0;34m)\u001b[0m\u001b[0;34m.\u001b[0m\u001b[0mtext\u001b[0m\u001b[0;34m)\u001b[0m\u001b[0;34m\u001b[0m\u001b[0;34m\u001b[0m\u001b[0m\n\u001b[0m",
      "\u001b[0;31mNameError\u001b[0m: name 'requests' is not defined"
     ]
    }
   ],
   "source": [
    "result = json.loads(requests.get('https://deckofcardsapi.com/api/deck/new/?deck_count=1').text)"
   ]
  },
  {
   "cell_type": "code",
   "execution_count": 12,
   "metadata": {},
   "outputs": [
    {
     "data": {
      "text/plain": [
       "'g13h0ewn7npd'"
      ]
     },
     "execution_count": 12,
     "metadata": {},
     "output_type": "execute_result"
    }
   ],
   "source": [
    "result['deck_id']"
   ]
  },
  {
   "cell_type": "markdown",
   "metadata": {},
   "source": [
    "Теперь давайте вытянем шесть карт с помощью этой колоды"
   ]
  },
  {
   "cell_type": "code",
   "execution_count": 13,
   "metadata": {},
   "outputs": [
    {
     "name": "stdout",
     "output_type": "stream",
     "text": [
      "ACE SPADES\n",
      "2 SPADES\n",
      "3 SPADES\n",
      "4 SPADES\n",
      "5 SPADES\n",
      "6 SPADES\n"
     ]
    }
   ],
   "source": [
    "url = 'https://deckofcardsapi.com/api/deck/' + result['deck_id'] + '/draw/?count=1'\n",
    "for i in range(6):\n",
    "    card = json.loads(requests.get(url).text)['cards'][0]\n",
    "    print(card['value'], card['suit'])"
   ]
  },
  {
   "cell_type": "markdown",
   "metadata": {},
   "source": [
    "Можно заметить, что колода идет по возрастанию, нам такая колода не нужна. А кроме этого мы сделали целых 7 запросов (и нам бы понадобился еще один на перемешивание колоды). Если правильно использовать API, то можно то же самое сделать одним http-запросом"
   ]
  },
  {
   "cell_type": "code",
   "execution_count": 15,
   "metadata": {},
   "outputs": [
    {
     "name": "stdout",
     "output_type": "stream",
     "text": [
      "8 CLUBS\n",
      "ACE SPADES\n",
      "9 SPADES\n",
      "10 SPADES\n",
      "KING SPADES\n",
      "7 HEARTS\n"
     ]
    }
   ],
   "source": [
    "url = 'https://deckofcardsapi.com/api/deck/new/draw/?count=6'\n",
    "cards = json.loads(requests.get(url).text)['cards']\n",
    "for i in range(6):\n",
    "    card = cards[i]\n",
    "    print(card['value'], card['suit'])"
   ]
  },
  {
   "cell_type": "markdown",
   "metadata": {},
   "source": [
    "Вы скажете -- ну и зачем мне это API, если я сам бы мог написать перемешивание колоды карт, а не делать какие-то запросы к неизвестному сервису?\n",
    "\n",
    "А я отвечу -- вы могли бы, но на разработку потратилось бы в десять раз больше времени, а результат не окупился бы. Таковы правила разработки -- реализовывать следует то, что выгодно реализовывать самому, а все остальное следует сначала поискать в интернете."
   ]
  },
  {
   "cell_type": "markdown",
   "metadata": {},
   "source": [
    "## POST-запросы\n",
    "\n",
    "Я не смог найти **ЛУЧШИЙ** пример, который мы смогли бы использовать для POST-реквестов в своих фановых целях, но нашел достаточно хороший. В общем, этот сайт рисует графики. Круто? Круто! мы ему отдаем JSON с данными, а он их съедает и выплевывает картинку.\n",
    "\n",
    "Если порыться на их сайте, то можно узнать, что то же самое их API поддерживает и через GET-запросы. Но в этой ситуации POST куда удобнее - через него мы передаем наши чувствительные данные отдельным файлом.\n",
    "\n",
    "Иначе говоря, если мы будем рисовать текущую прибыль компании (приватные данные), то злоумышленнику понадобится доступ к источнику наших данных, что очень сложно обеспечить. Перехватить их по пути (при использовании защищенного соединения) не получится."
   ]
  },
  {
   "cell_type": "code",
   "execution_count": 16,
   "metadata": {},
   "outputs": [
    {
     "name": "stdout",
     "output_type": "stream",
     "text": [
      "{'success': True, 'url': 'https://quickchart.io/chart/render/zf-773bfd05-a7ac-46ae-8f2f-6d5566a3657a'}\n"
     ]
    }
   ],
   "source": [
    "from math import exp\n",
    "quickchart_url = 'https://quickchart.io/chart/create'\n",
    "\n",
    "labels = ['Jan 2020', 'Feb 2020', 'Mar 2020', 'Apr 2020', 'May 2020']\n",
    "data = [exp(6), exp(7), exp(8), exp(9), exp(10)]\n",
    "\n",
    "post_data = {'chart': {'type': 'line', 'data': {'labels': labels,\n",
    "             'datasets': [{'label': 'Time spended looking at exponential graphs', 'data': data}]}}}\n",
    "\n",
    "response = requests.post(\n",
    "    quickchart_url,\n",
    "    json=post_data,\n",
    ")\n",
    "\n",
    "if (response.status_code == 200):\n",
    "    chart_response = json.loads(response.text)\n",
    "    print(chart_response)"
   ]
  },
  {
   "cell_type": "markdown",
   "metadata": {},
   "source": [
    "Вот так вот мы отправили какие-то сложные данные. Нам в ответ отправили не картинку, а ссылку на статичную картинку. Теперь надо ее загрузить:"
   ]
  },
  {
   "cell_type": "code",
   "execution_count": 17,
   "metadata": {},
   "outputs": [],
   "source": [
    "# https://stackoverflow.com/a/13137873\n",
    "import shutil\n",
    "\n",
    "r = requests.get(chart_response['url'], stream=True)\n",
    "if r.status_code == 200:\n",
    "    with open('saved_chart.png', 'wb') as f:\n",
    "        r.raw.decode_content = True\n",
    "        shutil.copyfileobj(r.raw, f)  "
   ]
  },
  {
   "cell_type": "code",
   "execution_count": 19,
   "metadata": {},
   "outputs": [
    {
     "data": {
      "text/plain": [
       "<matplotlib.image.AxesImage at 0x7fa4229b9b20>"
      ]
     },
     "execution_count": 19,
     "metadata": {},
     "output_type": "execute_result"
    },
    {
     "data": {
      "image/png": "[encoded data removed]",
      "text/plain": [
       "<Figure size 7200x720 with 1 Axes>"
      ]
     },
     "metadata": {
      "needs_background": "light"
     },
     "output_type": "display_data"
    }
   ],
   "source": [
    "import matplotlib.pyplot as plt\n",
    "import matplotlib.image as mpimg\n",
    "\n",
    "%matplotlib inline\n",
    "\n",
    "img = mpimg.imread('saved_chart.png')\n",
    "plt.figure(figsize = (100, 10))\n",
    "plt.imshow(img, interpolation='nearest')"
   ]
  },
  {
   "cell_type": "markdown",
   "metadata": {},
   "source": [
    "## Token api\n",
    "\n",
    "Давайте теперь попробуем другое апи: API musixmatch. Это такие ребята, которые выдают тебе песни и их тексты.\n",
    "\n",
    "Для начала придется зарегистрироваться на их сайте: \n",
    "https://developer.musixmatch.com/documentation/api-reference/track-get. После этого вы получите специальную случайную строку - токен, который будет вашим уникальным аналогом пароля."
   ]
  },
  {
   "cell_type": "markdown",
   "metadata": {},
   "source": [
    "Я категорически запрещаю вам хранить токен в исходном коде. Это потом практически невозможно стереть из интернета, а пользоваться им смогут все. Хорошая стратегия такая: вы создаете файл config.json, в котором лежит заглушка для токена, а на сервере файл меняется и туда записывается настоящий код "
   ]
  },
  {
   "cell_type": "code",
   "execution_count": 47,
   "metadata": {},
   "outputs": [],
   "source": [
    "# json_config = {'token': 'TOKEN_PLACEHOLDER'}\n",
    "# json.dump(json_config, open('config.json', 'w'))"
   ]
  },
  {
   "cell_type": "code",
   "execution_count": 48,
   "metadata": {},
   "outputs": [],
   "source": [
    "TOKEN = json.load(open('config.json', 'r'))['token']"
   ]
  },
  {
   "cell_type": "code",
   "execution_count": 49,
   "metadata": {},
   "outputs": [],
   "source": [
    "url = 'https://api.musixmatch.com/ws/1.1/chart.tracks.get?chart_name=top&counry=ru&apikey=' + TOKEN\n",
    "tracks = json.loads(requests.get(url).text)"
   ]
  },
  {
   "cell_type": "code",
   "execution_count": 50,
   "metadata": {},
   "outputs": [
    {
     "data": {
      "text/plain": [
       "{('album_name', 'Bad Habits - Single'),\n",
       " ('artist_name', 'Ed Sheeran'),\n",
       " ('track_name', 'Bad Habits')}"
      ]
     },
     "execution_count": 50,
     "metadata": {},
     "output_type": "execute_result"
    }
   ],
   "source": [
    "track = tracks['message']['body']['track_list'][0]['track']\n",
    "{(x, track[x]) for x in ['track_name', 'artist_name', 'album_name']}"
   ]
  },
  {
   "cell_type": "markdown",
   "metadata": {},
   "source": [
    "С помощью track.search можно найти id вашего любимого трека\n",
    "Я вот нашел \n",
    "\n",
    "`\"track_id\":198417175`\n",
    "\n",
    "Давайте прочитаем текст трека!"
   ]
  },
  {
   "cell_type": "code",
   "execution_count": 51,
   "metadata": {},
   "outputs": [],
   "source": [
    "url = 'https://api.musixmatch.com/ws/1.1/track.lyrics.get?track_id=198417175&counry=ru&apikey=' + TOKEN\n",
    "track = json.loads(requests.get(url).text)"
   ]
  },
  {
   "cell_type": "code",
   "execution_count": 55,
   "metadata": {},
   "outputs": [
    {
     "data": {
      "text/plain": [
       "'Слава, что ты сделал?'"
      ]
     },
     "execution_count": 55,
     "metadata": {},
     "output_type": "execute_result"
    }
   ],
   "source": [
    "track['message']['body']['lyrics']['lyrics_body'].split('\\n')[0]"
   ]
  },
  {
   "cell_type": "markdown",
   "metadata": {},
   "source": [
    "Сразу становится понятно, что дальше показывать я не буду :))"
   ]
  },
  {
   "cell_type": "markdown",
   "metadata": {},
   "source": [
    "## Домашнее задание\n",
    "\n",
    "Надо сделать какой-то проект, который будет использовать интересное API из интернета, которое вы сможете найти.\n",
    "\n",
    "В любом случае, ваша задача: найти либо апи, либо сайт вам по душе, после чего сделать что-то на его основе.\n",
    "\n",
    "Почти гарантированно у вас получится параметризованный скрипт, который после запуска идет делать запросы к интересному апи и вытягивает оттуда информацию. Скорее всего, кода получится мало, так что рекомендую потратить время на то, чтобы найти api себе по душе.\n",
    "\n",
    "Вот еще списочек того, что можно сделать.\n",
    "\n",
    "* Lichess bot - Чтобы играть в шахматы или решать какие-то задачки (например, перебором научить его ставить мат в два хода). https://lichess.org/api#section/Introduction\n",
    "* Апи для гифок, можно сделать скрипт, который по запросу находит гифку https://developers.giphy.com/docs/api/schema/#gif-object\n",
    "* Можно брать случайную цитату из аниме и подписывать ей аватарку https://github.com/RocktimSaikia/anime-chan\n",
    "* Апи Вконтакте. Можно, как вариант, сделать постоянно обновляющийся статус (я видел \"уже %time, а ты еще не спишь\") - https://vk.com/dev/methods\n",
    "* Очень хорошая подборка по разным темам, полистайте и найдите себе по душе https://github.com/public-apis/public-apis\n",
    "* Еще для вдохновения https://learn.vonage.com/blog/2021/03/15/the-ultimate-list-of-fun-apis-for-your-next-coding-project/"
   ]
  }
 ],
 "metadata": {
  "kernelspec": {
   "display_name": "Python 3",
   "language": "python",
   "name": "python3"
  },
  "language_info": {
   "codemirror_mode": {
    "name": "ipython",
    "version": 3
   },
   "file_extension": ".py",
   "mimetype": "text/x-python",
   "name": "python",
   "nbconvert_exporter": "python",
   "pygments_lexer": "ipython3",
   "version": "3.8.10"
  }
 },
 "nbformat": 4,
 "nbformat_minor": 4
}
